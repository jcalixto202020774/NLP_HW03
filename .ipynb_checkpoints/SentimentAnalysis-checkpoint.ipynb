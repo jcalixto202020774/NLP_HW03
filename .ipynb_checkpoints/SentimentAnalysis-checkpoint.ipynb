{
 "cells": [
  {
   "cell_type": "markdown",
   "metadata": {},
   "source": [
    "# Sentiment Analysis"
   ]
  },
  {
   "cell_type": "markdown",
   "metadata": {},
   "source": [
    "This notebook intends to build a sentiment classifier (positive, negative) from “Multi-Domain Sentiment Dataset” per each category (“Books”, “DVD”, “Electronics”, “Kitchen”)."
   ]
  },
  {
   "cell_type": "markdown",
   "metadata": {},
   "source": [
    "### Library imports"
   ]
  },
  {
   "cell_type": "code",
   "execution_count": null,
   "metadata": {},
   "outputs": [],
   "source": [
    "pip install nltk"
   ]
  },
  {
   "cell_type": "code",
   "execution_count": 1,
   "metadata": {},
   "outputs": [
    {
     "ename": "ModuleNotFoundError",
     "evalue": "No module named 'nltk'",
     "output_type": "error",
     "traceback": [
      "\u001b[0;31m---------------------------------------------------------------------------\u001b[0m",
      "\u001b[0;31mModuleNotFoundError\u001b[0m                       Traceback (most recent call last)",
      "Cell \u001b[0;32mIn[1], line 12\u001b[0m\n\u001b[1;32m      9\u001b[0m \u001b[38;5;28;01mimport\u001b[39;00m \u001b[38;5;21;01mseaborn\u001b[39;00m \u001b[38;5;28;01mas\u001b[39;00m \u001b[38;5;21;01msns\u001b[39;00m\n\u001b[1;32m     11\u001b[0m \u001b[38;5;66;03m#NLTK\u001b[39;00m\n\u001b[0;32m---> 12\u001b[0m \u001b[38;5;28;01mimport\u001b[39;00m \u001b[38;5;21;01mnltk\u001b[39;00m\n\u001b[1;32m     13\u001b[0m \u001b[38;5;28;01mfrom\u001b[39;00m \u001b[38;5;21;01mnltk\u001b[39;00m\u001b[38;5;21;01m.\u001b[39;00m\u001b[38;5;21;01mcorpus\u001b[39;00m \u001b[38;5;28;01mimport\u001b[39;00m stopwords\n\u001b[1;32m     14\u001b[0m \u001b[38;5;28;01mimport\u001b[39;00m \u001b[38;5;21;01mre\u001b[39;00m\n",
      "\u001b[0;31mModuleNotFoundError\u001b[0m: No module named 'nltk'"
     ]
    }
   ],
   "source": [
    "#Scikit-learn\n",
    "from sklearn.feature_extraction.text import CountVectorizer\n",
    "from sklearn.model_selection import train_test_split\n",
    "from sklearn.naive_bayes import MultinomialNB\n",
    "from sklearn.metrics import classification_report, confusion_matrix, accuracy_score, ConfusionMatrixDisplay\n",
    "\n",
    "#Libraries to graph\n",
    "import matplotlib.pyplot as plt\n",
    "import seaborn as sns\n",
    "\n",
    "#NLTK\n",
    "import nltk\n",
    "from nltk.corpus import stopwords\n",
    "import re\n",
    "import pandas as pd\n",
    "\n",
    "\n",
    "stemmer = nltk.stem.SnowballStemmer('english') \n",
    "nltk.download('stopwords') "
   ]
  },
  {
   "cell_type": "markdown",
   "metadata": {},
   "source": [
    "### Read and transform the .review's files\n",
    "\n",
    "Run the python file \"PreProcessingSentimentAnalysis.py\""
   ]
  },
  {
   "cell_type": "markdown",
   "metadata": {},
   "source": [
    "### Creating the training/validation dataframe"
   ]
  },
  {
   "cell_type": "code",
   "execution_count": null,
   "metadata": {},
   "outputs": [],
   "source": [
    "def create_df (file_name):\n",
    "    df = pd.read_csv(file_name, sep=',')\n",
    "    return df\n"
   ]
  },
  {
   "cell_type": "markdown",
   "metadata": {},
   "source": [
    "### Text processing function"
   ]
  },
  {
   "cell_type": "code",
   "execution_count": null,
   "metadata": {},
   "outputs": [],
   "source": [
    "def text_processing(text):\n",
    "    # Step 1: Remove special characters using a regular expression (non-words).\n",
    "    processed_feature = re.sub(r'\\W', ' ', str(text))\n",
    "    # Step 2: Remove single-character occurrences.\n",
    "    processed_feature = re.sub(r'\\s+[a-zA-Z]\\s+', ' ', processed_feature)\n",
    "    processed_feature = re.sub(r'\\^[a-zA-Z]\\s+', ' ', processed_feature)\n",
    "    # Step 3: Remove numbers (very sporadic occurrences in our dataset).\n",
    "    processed_feature = re.sub(r'[0-9]+', ' ', processed_feature)\n",
    "    # Step 4: Simplify consecutive spaces to a single space between words.\n",
    "    processed_feature = re.sub(' +', ' ', processed_feature)\n",
    "    # Step 5: Convert all text to lowercase.\n",
    "    processed_feature = processed_feature.lower()\n",
    "    # Step 6: Apply stemming. It's a way to bring words to a common root, simplifying the vocabulary.\n",
    "    # This helps to avoid having two different words with the same meaning in our vocabulary.\n",
    "    processed_feature = \" \".join([stemmer.stem(i) for i in processed_feature.split()])\n",
    "\n",
    "    return processed_feature\n"
   ]
  },
  {
   "cell_type": "markdown",
   "metadata": {},
   "source": [
    "Applying the text processing function to each data set"
   ]
  },
  {
   "cell_type": "code",
   "execution_count": null,
   "metadata": {},
   "outputs": [],
   "source": [
    "def apply_processing(category)->list:\n",
    "\n",
    "    #Extracting the unprocessed texts and its labels\n",
    "    not_processed = category['review'].values\n",
    "    labels = category['label'].values\n",
    "\n",
    "    #Creating a list to save the processed texts\n",
    "    processed = []\n",
    "\n",
    "    #Processing all the texts\n",
    "    for t in range(0, len(not_processed)):\n",
    "        text = text_processing(not_processed[t])\n",
    "        processed.append(text)\n",
    "\n",
    "    # Saving the processed texts in the df\n",
    "    category['processed'] = processed\n",
    "\n",
    "    #Returning the processeddf\n",
    "    return category\n"
   ]
  },
  {
   "cell_type": "markdown",
   "metadata": {},
   "source": [
    "### Text representation\n",
    "\n",
    "In this part we must take the processed text and represent it in such way we can operate it correctly. We are going to create a bow (bag of words)"
   ]
  },
  {
   "cell_type": "markdown",
   "metadata": {},
   "source": [
    "### Vectorizer\n",
    "\n",
    "We are using the CountVectorizer in order to create the bow"
   ]
  },
  {
   "cell_type": "code",
   "execution_count": null,
   "metadata": {},
   "outputs": [],
   "source": [
    "def bow(processed_text:list):\n",
    "    \n",
    "    #Bag of words\n",
    "    vectorizer = CountVectorizer(max_features=2500, stop_words=stopwords.words('english'))\n",
    "    \n",
    "    #Now we build the vocabulary and also transform our text using our dataset\n",
    "    text_features = vectorizer.fit_transform(processed_text).toarray()\n",
    "\n",
    "    return text_features"
   ]
  },
  {
   "cell_type": "markdown",
   "metadata": {},
   "source": [
    "### Training and evaluation"
   ]
  },
  {
   "cell_type": "code",
   "execution_count": null,
   "metadata": {},
   "outputs": [],
   "source": [
    "def NB(features, labels):\n",
    "    X_train, X_test, y_train, y_test = train_test_split(features, labels, test_size=0.2, random_state=0)\n",
    "\n",
    "    #Naive Bayes\n",
    "    nb = MultinomialNB()\n",
    "    #Training the model\n",
    "    nb.fit(X_train, y_train)\n",
    "\n",
    "    return [nb, X_train, X_test, y_train, y_test]"
   ]
  },
  {
   "cell_type": "code",
   "execution_count": null,
   "metadata": {},
   "outputs": [],
   "source": [
    "def evaluation(model, x_test, y_test):\n",
    "\n",
    "    predictions = model.predict(x_test)\n",
    "    print(accuracy_score(y_test, predictions))"
   ]
  },
  {
   "cell_type": "markdown",
   "metadata": {},
   "source": [
    "## Entire process for each category"
   ]
  },
  {
   "cell_type": "markdown",
   "metadata": {},
   "source": [
    "### Books"
   ]
  },
  {
   "cell_type": "code",
   "execution_count": null,
   "metadata": {},
   "outputs": [],
   "source": [
    "book_df = create_df('books_consolidated.csv')\n",
    "#print(book_df.sample(5))"
   ]
  },
  {
   "cell_type": "code",
   "execution_count": null,
   "metadata": {},
   "outputs": [],
   "source": [
    "processed_book_df = apply_processing(book_df)\n",
    "#print(processed_book_df.sample(5))"
   ]
  },
  {
   "cell_type": "markdown",
   "metadata": {},
   "source": [
    "Lets check that the processing was done correctly"
   ]
  },
  {
   "cell_type": "code",
   "execution_count": null,
   "metadata": {},
   "outputs": [],
   "source": [
    "print(\"Review 1000 before processing\")\n",
    "print(book_df.loc[1000]['review'])\n",
    "print(\"Review 1000 after processing\")\n",
    "print(processed_book_df.loc[1000]['processed'])"
   ]
  },
  {
   "cell_type": "code",
   "execution_count": null,
   "metadata": {},
   "outputs": [],
   "source": [
    "book_features = bow(processed_book_df['processed'].values)"
   ]
  },
  {
   "cell_type": "code",
   "execution_count": null,
   "metadata": {},
   "outputs": [],
   "source": [
    "book_labels = processed_book_df['label'].values\n",
    "book_model = NB(book_features, book_labels)\n",
    "book_nb = book_model[0]\n",
    "book_x_train = book_model[1]\n",
    "book_x_test = book_model[2]\n",
    "book_y_train = book_model[3]\n",
    "book_y_test = book_model[4]"
   ]
  }
 ],
 "metadata": {
  "kernelspec": {
   "display_name": "Python 3 (ipykernel)",
   "language": "python",
   "name": "python3"
  },
  "language_info": {
   "codemirror_mode": {
    "name": "ipython",
    "version": 3
   },
   "file_extension": ".py",
   "mimetype": "text/x-python",
   "name": "python",
   "nbconvert_exporter": "python",
   "pygments_lexer": "ipython3",
   "version": "3.11.1"
  }
 },
 "nbformat": 4,
 "nbformat_minor": 4
}
