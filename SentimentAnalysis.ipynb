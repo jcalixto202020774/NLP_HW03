{
 "cells": [
  {
   "cell_type": "markdown",
   "metadata": {},
   "source": [
    "# Sentiment Analysis"
   ]
  },
  {
   "cell_type": "markdown",
   "metadata": {},
   "source": [
    "This notebook intends to build a sentiment classifier (positive, negative) from “Multi-Domain Sentiment Dataset” per each category (“Books”, “DVD”, “Electronics”, “Kitchen”)."
   ]
  },
  {
   "cell_type": "markdown",
   "metadata": {},
   "source": [
    "### Library imports"
   ]
  },
  {
   "cell_type": "code",
   "execution_count": 1,
   "metadata": {},
   "outputs": [
    {
     "name": "stderr",
     "output_type": "stream",
     "text": [
      "[nltk_data] Error loading stopwords: <urlopen error [SSL:\n",
      "[nltk_data]     CERTIFICATE_VERIFY_FAILED] certificate verify failed:\n",
      "[nltk_data]     unable to get local issuer certificate (_ssl.c:992)>\n"
     ]
    },
    {
     "data": {
      "text/plain": [
       "False"
      ]
     },
     "execution_count": 1,
     "metadata": {},
     "output_type": "execute_result"
    }
   ],
   "source": [
    "#Scikit-learn\n",
    "from sklearn.feature_extraction.text import CountVectorizer\n",
    "from sklearn.model_selection import train_test_split\n",
    "from sklearn.naive_bayes import MultinomialNB\n",
    "from sklearn.metrics import classification_report, confusion_matrix, accuracy_score, ConfusionMatrixDisplay\n",
    "\n",
    "#Libraries to graph\n",
    "import matplotlib.pyplot as plt\n",
    "import seaborn as sns\n",
    "\n",
    "#NLTK\n",
    "import nltk\n",
    "from nltk.corpus import stopwords\n",
    "import re\n",
    "import pandas as pd\n",
    "\n",
    "\n",
    "stemmer = nltk.stem.SnowballStemmer('english') \n",
    "nltk.download('stopwords') "
   ]
  },
  {
   "cell_type": "markdown",
   "metadata": {},
   "source": [
    "### Read and transform the .review's files\n",
    "\n",
    "Run the python file \"PreProcessingSentimentAnalysis.py\""
   ]
  },
  {
   "cell_type": "markdown",
   "metadata": {},
   "source": [
    "### Creating the training/validation dataframe"
   ]
  },
  {
   "cell_type": "code",
   "execution_count": 2,
   "metadata": {},
   "outputs": [],
   "source": [
    "def create_df (file_name):\n",
    "    df = pd.read_csv(file_name, sep=',')\n"
   ]
  },
  {
   "cell_type": "markdown",
   "metadata": {},
   "source": [
    "### Text processing function"
   ]
  },
  {
   "cell_type": "code",
   "execution_count": 3,
   "metadata": {},
   "outputs": [],
   "source": [
    "def text_processing(text):\n",
    "    # Step 1: Remove special characters using a regular expression (non-words).\n",
    "    processed_feature = re.sub(r'\\W', ' ', str(text))\n",
    "    # Step 2: Remove single-character occurrences.\n",
    "    processed_feature = re.sub(r'\\s+[a-zA-Z]\\s+', ' ', processed_feature)\n",
    "    processed_feature = re.sub(r'\\^[a-zA-Z]\\s+', ' ', processed_feature)\n",
    "    # Step 3: Remove numbers (very sporadic occurrences in our dataset).\n",
    "    processed_feature = re.sub(r'[0-9]+', ' ', processed_feature)\n",
    "    # Step 4: Simplify consecutive spaces to a single space between words.\n",
    "    processed_feature = re.sub(' +', ' ', processed_feature)\n",
    "    # Step 5: Convert all text to lowercase.\n",
    "    processed_feature = processed_feature.lower()\n",
    "    # Step 6: Apply stemming. It's a way to bring words to a common root, simplifying the vocabulary.\n",
    "    # This helps to avoid having two different words with the same meaning in our vocabulary.\n",
    "    processed_feature = \" \".join([stemmer.stem(i) for i in processed_feature.split()])\n",
    "\n",
    "    return processed_feature\n"
   ]
  },
  {
   "cell_type": "markdown",
   "metadata": {},
   "source": [
    "Applying the text processing function to each data set"
   ]
  },
  {
   "cell_type": "code",
   "execution_count": 4,
   "metadata": {},
   "outputs": [
    {
     "ename": "NameError",
     "evalue": "name 'df' is not defined",
     "output_type": "error",
     "traceback": [
      "\u001b[0;31m---------------------------------------------------------------------------\u001b[0m",
      "\u001b[0;31mNameError\u001b[0m                                 Traceback (most recent call last)",
      "\u001b[1;32m/Users/juandiegocalixto/Desktop/Uniandes/7to SEMESTRE/NLP/TAREAS/3/NLP_HW03/SentimentAnalysis.ipynb Cell 11\u001b[0m line \u001b[0;36m1\n\u001b[0;32m----> <a href='vscode-notebook-cell:/Users/juandiegocalixto/Desktop/Uniandes/7to%20SEMESTRE/NLP/TAREAS/3/NLP_HW03/SentimentAnalysis.ipynb#X13sZmlsZQ%3D%3D?line=0'>1</a>\u001b[0m not_processed \u001b[39m=\u001b[39m df[\u001b[39m'\u001b[39m\u001b[39mreview\u001b[39m\u001b[39m'\u001b[39m]\u001b[39m.\u001b[39mvalues()\n\u001b[1;32m      <a href='vscode-notebook-cell:/Users/juandiegocalixto/Desktop/Uniandes/7to%20SEMESTRE/NLP/TAREAS/3/NLP_HW03/SentimentAnalysis.ipynb#X13sZmlsZQ%3D%3D?line=1'>2</a>\u001b[0m labels \u001b[39m=\u001b[39m df[\u001b[39m'\u001b[39m\u001b[39mlabels\u001b[39m\u001b[39m'\u001b[39m]\u001b[39m.\u001b[39mvalues()\n\u001b[1;32m      <a href='vscode-notebook-cell:/Users/juandiegocalixto/Desktop/Uniandes/7to%20SEMESTRE/NLP/TAREAS/3/NLP_HW03/SentimentAnalysis.ipynb#X13sZmlsZQ%3D%3D?line=3'>4</a>\u001b[0m processed \u001b[39m=\u001b[39m []\n",
      "\u001b[0;31mNameError\u001b[0m: name 'df' is not defined"
     ]
    }
   ],
   "source": [
    "def apply_processing(category)->list:\n",
    "\n",
    "    #Extracting the unprocessed texts and its labels\n",
    "    not_processed = category['review'].values()\n",
    "    labels = category['labels'].values()\n",
    "\n",
    "    #Creating a list to save the processed texts\n",
    "    processed = []\n",
    "\n",
    "    #Processing all the texts\n",
    "    for t in range(0, len(not_processed)):\n",
    "        text = text_processing(not_processed[t])\n",
    "        processed.append(text)\n",
    "\n",
    "    # Saving the processed texts in the df\n",
    "    category['processed'] = processed\n",
    "\n",
    "    #Returning the processeddf\n",
    "    return category\n"
   ]
  },
  {
   "cell_type": "markdown",
   "metadata": {},
   "source": [
    "## Text representation\n",
    "\n",
    "In this part we must take the processed text and represent it in such way we can operate it correctly. We are going to create a bow (bag of words)"
   ]
  },
  {
   "cell_type": "markdown",
   "metadata": {},
   "source": [
    "### Vectorizer\n",
    "\n",
    "We are using the CountVectorizer in order to create the bow"
   ]
  },
  {
   "cell_type": "code",
   "execution_count": null,
   "metadata": {},
   "outputs": [],
   "source": [
    "def bow(processed_text:list):\n",
    "    \n",
    "    #Bag of words\n",
    "    vectorizer = CountVectorizer(max_features=2500, stop_words=stopwords.words('english'))\n",
    "    \n",
    "    #Now we build the vocabulary and also transform our text using our dataset\n",
    "    text_features = vectorizer.fit_transform(processed_text).toarray()\n",
    "\n",
    "    return text_features"
   ]
  },
  {
   "cell_type": "markdown",
   "metadata": {},
   "source": [
    "Lets see if the processing function worked ok"
   ]
  },
  {
   "cell_type": "code",
   "execution_count": null,
   "metadata": {},
   "outputs": [],
   "source": [
    "print(\"Not processed:\")\n",
    "print(not_processed[1000])\n",
    "print(\"---------------------------------\")\n",
    "print(\"Processed:\")\n",
    "print(processed[1000])"
   ]
  }
 ],
 "metadata": {
  "kernelspec": {
   "display_name": "Python 3",
   "language": "python",
   "name": "python3"
  },
  "language_info": {
   "codemirror_mode": {
    "name": "ipython",
    "version": 3
   },
   "file_extension": ".py",
   "mimetype": "text/x-python",
   "name": "python",
   "nbconvert_exporter": "python",
   "pygments_lexer": "ipython3",
   "version": "3.11.1"
  },
  "orig_nbformat": 4
 },
 "nbformat": 4,
 "nbformat_minor": 2
}
