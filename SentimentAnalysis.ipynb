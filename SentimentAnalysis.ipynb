{
  "cells": [
    {
      "cell_type": "markdown",
      "metadata": {
        "id": "zz7uCaY5AZkd"
      },
      "source": [
        "# Sentiment Analysis"
      ]
    },
    {
      "cell_type": "markdown",
      "metadata": {
        "id": "eHu1X9uJAZkf"
      },
      "source": [
        "This notebook intends to build a sentiment classifier (positive, negative) from “Multi-Domain Sentiment Dataset” per each category (“Books”, “DVD”, “Electronics”, “Kitchen”)."
      ]
    },
    {
      "cell_type": "markdown",
      "metadata": {
        "id": "S4Nz0gjGAZkg"
      },
      "source": [
        "### Library imports"
      ]
    },
    {
      "cell_type": "code",
      "execution_count": 1,
      "metadata": {
        "colab": {
          "base_uri": "https://localhost:8080/"
        },
        "id": "7P_B2BfmAZkh",
        "outputId": "3079a82f-9000-4e1c-ba5d-67005b8acfe6"
      },
      "outputs": [
        {
          "name": "stdout",
          "output_type": "stream",
          "text": [
            "Requirement already satisfied: nltk in /usr/local/lib/python3.10/dist-packages (3.8.1)\n",
            "Requirement already satisfied: click in /usr/local/lib/python3.10/dist-packages (from nltk) (8.1.7)\n",
            "Requirement already satisfied: joblib in /usr/local/lib/python3.10/dist-packages (from nltk) (1.3.2)\n",
            "Requirement already satisfied: regex>=2021.8.3 in /usr/local/lib/python3.10/dist-packages (from nltk) (2023.6.3)\n",
            "Requirement already satisfied: tqdm in /usr/local/lib/python3.10/dist-packages (from nltk) (4.66.1)\n"
          ]
        }
      ],
      "source": [
        "pip install nltk"
      ]
    },
    {
      "cell_type": "code",
      "execution_count": 2,
      "metadata": {
        "colab": {
          "base_uri": "https://localhost:8080/"
        },
        "id": "lRGdF7dAAZkj",
        "outputId": "bf8855b4-644e-4c6c-c2a8-2c12f3cc0c5b"
      },
      "outputs": [
        {
          "name": "stderr",
          "output_type": "stream",
          "text": [
            "[nltk_data] Downloading package stopwords to /root/nltk_data...\n",
            "[nltk_data]   Unzipping corpora/stopwords.zip.\n"
          ]
        },
        {
          "data": {
            "text/plain": [
              "True"
            ]
          },
          "execution_count": 2,
          "metadata": {},
          "output_type": "execute_result"
        }
      ],
      "source": [
        "#Scikit-learn\n",
        "from sklearn.feature_extraction.text import CountVectorizer\n",
        "from sklearn.model_selection import train_test_split\n",
        "from sklearn.naive_bayes import MultinomialNB\n",
        "from sklearn.metrics import classification_report, confusion_matrix, ConfusionMatrixDisplay\n",
        "from sklearn.metrics import accuracy_score, precision_score, recall_score, f1_score\n",
        "from sklearn.linear_model import LogisticRegression, SGDClassifier\n",
        "\n",
        "#Libraries to graph\n",
        "import matplotlib.pyplot as plt\n",
        "import seaborn as sns\n",
        "\n",
        "#NLTK\n",
        "import nltk\n",
        "from nltk.corpus import stopwords\n",
        "import re\n",
        "import pandas as pd\n",
        "\n",
        "\n",
        "stemmer = nltk.stem.SnowballStemmer('english')\n",
        "nltk.download('stopwords')"
      ]
    },
    {
      "cell_type": "markdown",
      "metadata": {
        "id": "AD93TUJrAZkk"
      },
      "source": [
        "### Read and transform the .review's files\n",
        "\n",
        "Run the python file \"PreProcessingSentimentAnalysis.py\""
      ]
    },
    {
      "cell_type": "markdown",
      "metadata": {
        "id": "hFmAZEQzAZkk"
      },
      "source": [
        "### Creating the training/validation dataframe"
      ]
    },
    {
      "cell_type": "code",
      "execution_count": 3,
      "metadata": {
        "id": "7mPUPEQQAZkl"
      },
      "outputs": [],
      "source": [
        "def create_df (file_name):\n",
        "    df = pd.read_csv(file_name, sep=',')\n",
        "    return df\n"
      ]
    },
    {
      "cell_type": "markdown",
      "metadata": {
        "id": "6dnlFd2YAZkl"
      },
      "source": [
        "### Text processing function"
      ]
    },
    {
      "cell_type": "code",
      "execution_count": 4,
      "metadata": {
        "id": "smdwaJ6QAZkm"
      },
      "outputs": [],
      "source": [
        "def text_processing(text):\n",
        "    # Step 1: Remove special characters using a regular expression (non-words).\n",
        "    processed_feature = re.sub(r'\\W', ' ', str(text))\n",
        "    # Step 2: Remove single-character occurrences.\n",
        "    processed_feature = re.sub(r'\\s+[a-zA-Z]\\s+', ' ', processed_feature)\n",
        "    processed_feature = re.sub(r'\\^[a-zA-Z]\\s+', ' ', processed_feature)\n",
        "    # Step 3: Remove numbers (very sporadic occurrences in our dataset).\n",
        "    processed_feature = re.sub(r'[0-9]+', ' ', processed_feature)\n",
        "    # Step 4: Simplify consecutive spaces to a single space between words.\n",
        "    processed_feature = re.sub(' +', ' ', processed_feature)\n",
        "    # Step 5: Convert all text to lowercase.\n",
        "    processed_feature = processed_feature.lower()\n",
        "    # Step 6: Apply stemming. It's a way to bring words to a common root, simplifying the vocabulary.\n",
        "    # This helps to avoid having two different words with the same meaning in our vocabulary.\n",
        "    processed_feature = \" \".join([stemmer.stem(i) for i in processed_feature.split()])\n",
        "\n",
        "    return processed_feature\n"
      ]
    },
    {
      "cell_type": "markdown",
      "metadata": {
        "id": "yrUqdI-IAZkm"
      },
      "source": [
        "Applying the text processing function to each data set"
      ]
    },
    {
      "cell_type": "code",
      "execution_count": 5,
      "metadata": {
        "id": "1pRCOKrZAZkn"
      },
      "outputs": [],
      "source": [
        "def apply_processing(category)->list:\n",
        "\n",
        "    #Extracting the unprocessed texts and its labels\n",
        "    not_processed = category['review'].values\n",
        "    labels = category['label'].values\n",
        "\n",
        "    #Creating a list to save the processed texts\n",
        "    processed = []\n",
        "\n",
        "    #Processing all the texts\n",
        "    for t in range(0, len(not_processed)):\n",
        "        text = text_processing(not_processed[t])\n",
        "        processed.append(text)\n",
        "\n",
        "    # Saving the processed texts in the df\n",
        "    category['processed'] = processed\n",
        "\n",
        "    #Returning the processeddf\n",
        "    return category\n"
      ]
    },
    {
      "cell_type": "markdown",
      "metadata": {
        "id": "cufFyZZyAZkn"
      },
      "source": [
        "### Text representation\n",
        "\n",
        "In this part we must take the processed text and represent it in such way we can operate it correctly. We are going to create a bow (bag of words)"
      ]
    },
    {
      "cell_type": "markdown",
      "metadata": {
        "id": "vTR_xKQxAZko"
      },
      "source": [
        "### Vectorizer\n",
        "\n",
        "We are using the CountVectorizer in order to create the bow"
      ]
    },
    {
      "cell_type": "code",
      "execution_count": 6,
      "metadata": {
        "id": "-3HQvOLeAZko"
      },
      "outputs": [],
      "source": [
        "def bow(processed_text:list):\n",
        "\n",
        "    #Bag of words\n",
        "    vectorizer = CountVectorizer(max_features=14000, stop_words=stopwords.words('english'))\n",
        "\n",
        "    #Now we build the vocabulary and also transform our text using our dataset\n",
        "    text_features = vectorizer.fit_transform(processed_text).toarray()\n",
        "    print(vectorizer.get_feature_names_out()[0:10])\n",
        "\n",
        "    return {'features':text_features,\n",
        "            'vectorizer': vectorizer}"
      ]
    },
    {
      "cell_type": "markdown",
      "metadata": {
        "id": "_pgeH4GoAZkp"
      },
      "source": [
        "### Training and evaluation"
      ]
    },
    {
      "cell_type": "code",
      "execution_count": 7,
      "metadata": {
        "id": "c852r1ZLAZkq"
      },
      "outputs": [],
      "source": [
        "def NB(features, labels):\n",
        "    x_train, x_test, y_train, y_test = train_test_split(features, labels, test_size=0.2, random_state=0)\n",
        "    #Naive Bayes\n",
        "    nb = MultinomialNB()\n",
        "    #Training the model\n",
        "    nb.fit(x_train, y_train)\n",
        "\n",
        "    return {'model': nb,\n",
        "            'x_train': x_train,\n",
        "            'y_train': y_train,\n",
        "            'x_test': x_test,\n",
        "            'y_test': y_test,}"
      ]
    },
    {
      "cell_type": "code",
      "execution_count": 8,
      "metadata": {
        "id": "qnDZ76ULAZkq"
      },
      "outputs": [],
      "source": [
        "def evaluation(model, x_test, y_test):\n",
        "\n",
        "    y_pred = model.predict(x_test)\n",
        "    print(\"Evaluating metrics\")\n",
        "    print(classification_report(y_test, y_pred, digits=4))\n",
        "    cm = confusion_matrix(y_test, y_pred,labels=model.classes_)\n",
        "    disp = ConfusionMatrixDisplay(confusion_matrix=cm, display_labels=model.classes_)\n",
        "    disp.plot()\n",
        "\n"
      ]
    },
    {
      "cell_type": "markdown",
      "metadata": {
        "id": "idLgBfzuAZkr"
      },
      "source": [
        "## Entire process for each category"
      ]
    },
    {
      "cell_type": "markdown",
      "metadata": {
        "id": "xb674Jf7AZkr"
      },
      "source": [
        "### Books"
      ]
    },
    {
      "cell_type": "markdown",
      "metadata": {
        "id": "U8XA0OJms7yG"
      },
      "source": [
        "First we create the consolidated file and the dataframe"
      ]
    },
    {
      "cell_type": "code",
      "execution_count": 9,
      "metadata": {
        "id": "IH4ZD-n2AZkr"
      },
      "outputs": [],
      "source": [
        "book_df = create_df('books_consolidated.csv')\n",
        "#print(book_df.sample(5))"
      ]
    },
    {
      "cell_type": "markdown",
      "metadata": {
        "id": "wJz_5UCutIBq"
      },
      "source": [
        "Then we apply the processing function"
      ]
    },
    {
      "cell_type": "code",
      "execution_count": 10,
      "metadata": {
        "id": "6ik5u8YLAZks"
      },
      "outputs": [],
      "source": [
        "processed_book_df = apply_processing(book_df)\n",
        "#print(processed_book_df.sample(5))"
      ]
    },
    {
      "cell_type": "markdown",
      "metadata": {
        "id": "6G8Q4u9yAZks"
      },
      "source": [
        "Lets check that the processing was done correctly"
      ]
    },
    {
      "cell_type": "code",
      "execution_count": 11,
      "metadata": {
        "colab": {
          "base_uri": "https://localhost:8080/"
        },
        "id": "oG6uM1sPAZkt",
        "outputId": "180c00a1-4b65-4183-d7d0-118ccb3fc71e"
      },
      "outputs": [
        {
          "name": "stdout",
          "output_type": "stream",
          "text": [
            "Review 1000 before processing\n",
            " avid your horrible book wasted use it the entire money.i i lit i read lit i would relationship read a <num> reader and reader suffering fire one i had year old year old gotten horrible horrible horrible lit this world...don't my my one star headache the this book this book this book this book this book mom was horrible friend book horrible star i back avid reader than one life copy rate it rate my mom man book was half on fire and then reading this so lower i could <num> year <num> year than time time half of time spent then book book book book book book and picked possible spent old man up after one one horrible if one less part was was entire less copy to rate my life about the your money.i an avid if the relationship use a headache fire lower than reading a friend picked purposes then got waste your after my friend i old old man and and i world...don't waste book on part about copy in book back book wasted have i time and the world...don't better if it star got mom had read half waste after i i i i i i about could use had gotten was possible year year it lower relationship the wasted my wish wish i boy purposes this got to the time it was back so suffering from spent reading book up less better purposes headache possible to money.i wish for better it suffering the part gotten it picked this entire time old boy i am the <num> boy had <num> <num> so i\n",
            "Review 1000 after processing\n",
            "avid your horribl book wast use it the entir money i lit read lit would relationship read num reader and reader suffer fire one had year old year old gotten horribl horribl horribl lit this world don my my one star headach the this book this book this book this book this book mom was horribl friend book horribl star back avid reader than one life copi rate it rate my mom man book was half on fire and then read this so lower could num year num year than time time half of time spent then book book book book book book and pick possibl spent old man up after one one horribl if one less part was was entir less copi to rate my life about the your money an avid if the relationship use headach fire lower than read friend pick purpos then got wast your after my friend old old man and and world don wast book on part about copi in book back book wast have time and the world don better if it star got mom had read half wast after i i i about could use had gotten was possibl year year it lower relationship the wast my wish wish boy purpos this got to the time it was back so suffer from spent read book up less better purpos headach possibl to money wish for better it suffer the part gotten it pick this entir time old boy am the num boy had num num so i\n"
          ]
        }
      ],
      "source": [
        "print(\"Review 1000 before processing\")\n",
        "print(book_df.loc[1000]['review'])\n",
        "print(\"Review 1000 after processing\")\n",
        "print(processed_book_df.loc[1000]['processed'])"
      ]
    },
    {
      "cell_type": "markdown",
      "metadata": {
        "id": "r9mLNsgVtOVT"
      },
      "source": [
        "We are extracting the features using the vectorizer we created previously, and we are also saving that trained vectorizer so that we can reuse it when testing the unlabeled files"
      ]
    },
    {
      "cell_type": "code",
      "execution_count": 12,
      "metadata": {
        "colab": {
          "base_uri": "https://localhost:8080/"
        },
        "id": "mL0mBLpSAZkt",
        "outputId": "718f1c3f-2717-4ecb-ff16-af9535572db9"
      },
      "outputs": [
        {
          "name": "stdout",
          "output_type": "stream",
          "text": [
            "['aa' 'aat' 'ab' 'aba' 'abaci' 'aback' 'abandon' 'abb' 'abbasid' 'abbot']\n"
          ]
        }
      ],
      "source": [
        "book_fv = bow(processed_book_df['processed'].values)\n",
        "book_features = book_fv['features']\n",
        "book_vectorizer = book_fv['vectorizer']"
      ]
    },
    {
      "cell_type": "markdown",
      "metadata": {
        "id": "JC1K7ID2tcqN"
      },
      "source": [
        "We train the model using Multinomial Naive Bayes"
      ]
    },
    {
      "cell_type": "code",
      "execution_count": 13,
      "metadata": {
        "id": "oemueoNhAZku"
      },
      "outputs": [],
      "source": [
        "book_labels = processed_book_df['label'].values\n",
        "book_model = NB(book_features, book_labels)"
      ]
    },
    {
      "cell_type": "code",
      "execution_count": 14,
      "metadata": {
        "id": "Ypx39JldmTEA"
      },
      "outputs": [],
      "source": [
        "book_nb = book_model['model']\n",
        "book_x_train = book_model['x_train']\n",
        "book_x_test = book_model['x_test']\n",
        "book_y_train = book_model['y_train']\n",
        "book_y_test = book_model['y_test']"
      ]
    },
    {
      "cell_type": "markdown",
      "metadata": {
        "id": "Sr8MTQotCaNe"
      },
      "source": [
        "#### Evaluation with the training data set"
      ]
    },
    {
      "cell_type": "markdown",
      "metadata": {
        "id": "Im3EsShRthxU"
      },
      "source": [
        "Finally we evaluate the model using theese metrics"
      ]
    },
    {
      "cell_type": "code",
      "execution_count": 15,
      "metadata": {
        "colab": {
          "base_uri": "https://localhost:8080/",
          "height": 618
        },
        "id": "gnU15St3efoU",
        "outputId": "d8adb241-2197-4a84-b05a-0bb0334f269e"
      },
      "outputs": [
        {
          "name": "stdout",
          "output_type": "stream",
          "text": [
            "Evaluating metrics\n",
            "              precision    recall  f1-score   support\n",
            "\n",
            "    negative     0.7619    0.8000    0.7805       200\n",
            "    positive     0.7895    0.7500    0.7692       200\n",
            "\n",
            "    accuracy                         0.7750       400\n",
            "   macro avg     0.7757    0.7750    0.7749       400\n",
            "weighted avg     0.7757    0.7750    0.7749       400\n",
            "\n"
          ]
        },
        {
          "data": {
            "image/png": "[encoded data removed]",
            "text/plain": [
              "<Figure size 640x480 with 2 Axes>"
            ]
          },
          "metadata": {},
          "output_type": "display_data"
        }
      ],
      "source": [
        "evaluation(book_nb, book_x_test, book_y_test)"
      ]
    },
    {
      "cell_type": "markdown",
      "metadata": {
        "id": "6ZR8lBpptsuF"
      },
      "source": [
        "#### Evaluating with the unlabeled data set"
      ]
    },
    {
      "cell_type": "code",
      "execution_count": 16,
      "metadata": {
        "id": "3AZYDLdEayQf"
      },
      "outputs": [],
      "source": [
        "book_test_df = create_df('books_test.csv')"
      ]
    },
    {
      "cell_type": "code",
      "execution_count": 17,
      "metadata": {
        "id": "Lw5jDVxMa9QX"
      },
      "outputs": [],
      "source": [
        "processed_test_book_df = apply_processing(book_test_df)"
      ]
    },
    {
      "cell_type": "code",
      "execution_count": 18,
      "metadata": {
        "id": "maJukaq3bxfi"
      },
      "outputs": [],
      "source": [
        "test_book_features = book_vectorizer.transform(processed_test_book_df['processed'].values)"
      ]
    },
    {
      "cell_type": "code",
      "execution_count": 19,
      "metadata": {
        "colab": {
          "base_uri": "https://localhost:8080/",
          "height": 612
        },
        "id": "zksBSZzQCs73",
        "outputId": "fc11209d-b75c-476e-97c5-578ff61ca432"
      },
      "outputs": [
        {
          "name": "stdout",
          "output_type": "stream",
          "text": [
            "Evaluating metrics\n",
            "              precision    recall  f1-score   support\n",
            "\n",
            "    negative     0.7415    0.7987    0.7690      2201\n",
            "    positive     0.7884    0.7292    0.7577      2264\n",
            "\n",
            "    accuracy                         0.7635      4465\n",
            "   macro avg     0.7650    0.7640    0.7634      4465\n",
            "weighted avg     0.7653    0.7635    0.7633      4465\n",
            "\n"
          ]
        },
        {
          "data": {
            "image/png": "[encoded data removed]",
            "text/plain": [
              "<Figure size 640x480 with 2 Axes>"
            ]
          },
          "metadata": {},
          "output_type": "display_data"
        }
      ],
      "source": [
        "un_book_x_test = test_book_features\n",
        "un_book_y_test = processed_test_book_df['label'].values\n",
        "\n",
        "evaluation(book_nb, un_book_x_test, un_book_y_test)"
      ]
    },
    {
      "cell_type": "markdown",
      "metadata": {
        "id": "x7ZWCYH_urtH"
      },
      "source": [
        "#### Regresion logistica"
      ]
    },
    {
      "cell_type": "markdown",
      "metadata": {
        "id": "G1PEqGrFvfrn"
      },
      "source": [
        "We are creating a logistic SGD model"
      ]
    },
    {
      "cell_type": "code",
      "execution_count": 20,
      "metadata": {
        "colab": {
          "base_uri": "https://localhost:8080/",
          "height": 72
        },
        "id": "xjXHNv1Jt4aD",
        "outputId": "012b43ae-18fd-48a5-d50e-891b97c366cd"
      },
      "outputs": [
        {
          "data": {
            "text/html": [
              "<style>#sk-container-id-1 {color: black;background-color: white;}#sk-container-id-1 pre{padding: 0;}#sk-container-id-1 div.sk-toggleable {background-color: white;}#sk-container-id-1 label.sk-toggleable__label {cursor: pointer;display: block;width: 100%;margin-bottom: 0;padding: 0.3em;box-sizing: border-box;text-align: center;}#sk-container-id-1 label.sk-toggleable__label-arrow:before {content: \"▸\";float: left;margin-right: 0.25em;color: #696969;}#sk-container-id-1 label.sk-toggleable__label-arrow:hover:before {color: black;}#sk-container-id-1 div.sk-estimator:hover label.sk-toggleable__label-arrow:before {color: black;}#sk-container-id-1 div.sk-toggleable__content {max-height: 0;max-width: 0;overflow: hidden;text-align: left;background-color: #f0f8ff;}#sk-container-id-1 div.sk-toggleable__content pre {margin: 0.2em;color: black;border-radius: 0.25em;background-color: #f0f8ff;}#sk-container-id-1 input.sk-toggleable__control:checked~div.sk-toggleable__content {max-height: 200px;max-width: 100%;overflow: auto;}#sk-container-id-1 input.sk-toggleable__control:checked~label.sk-toggleable__label-arrow:before {content: \"▾\";}#sk-container-id-1 div.sk-estimator input.sk-toggleable__control:checked~label.sk-toggleable__label {background-color: #d4ebff;}#sk-container-id-1 div.sk-label input.sk-toggleable__control:checked~label.sk-toggleable__label {background-color: #d4ebff;}#sk-container-id-1 input.sk-hidden--visually {border: 0;clip: rect(1px 1px 1px 1px);clip: rect(1px, 1px, 1px, 1px);height: 1px;margin: -1px;overflow: hidden;padding: 0;position: absolute;width: 1px;}#sk-container-id-1 div.sk-estimator {font-family: monospace;background-color: #f0f8ff;border: 1px dotted black;border-radius: 0.25em;box-sizing: border-box;margin-bottom: 0.5em;}#sk-container-id-1 div.sk-estimator:hover {background-color: #d4ebff;}#sk-container-id-1 div.sk-parallel-item::after {content: \"\";width: 100%;border-bottom: 1px solid gray;flex-grow: 1;}#sk-container-id-1 div.sk-label:hover label.sk-toggleable__label {background-color: #d4ebff;}#sk-container-id-1 div.sk-serial::before {content: \"\";position: absolute;border-left: 1px solid gray;box-sizing: border-box;top: 0;bottom: 0;left: 50%;z-index: 0;}#sk-container-id-1 div.sk-serial {display: flex;flex-direction: column;align-items: center;background-color: white;padding-right: 0.2em;padding-left: 0.2em;position: relative;}#sk-container-id-1 div.sk-item {position: relative;z-index: 1;}#sk-container-id-1 div.sk-parallel {display: flex;align-items: stretch;justify-content: center;background-color: white;position: relative;}#sk-container-id-1 div.sk-item::before, #sk-container-id-1 div.sk-parallel-item::before {content: \"\";position: absolute;border-left: 1px solid gray;box-sizing: border-box;top: 0;bottom: 0;left: 50%;z-index: -1;}#sk-container-id-1 div.sk-parallel-item {display: flex;flex-direction: column;z-index: 1;position: relative;background-color: white;}#sk-container-id-1 div.sk-parallel-item:first-child::after {align-self: flex-end;width: 50%;}#sk-container-id-1 div.sk-parallel-item:last-child::after {align-self: flex-start;width: 50%;}#sk-container-id-1 div.sk-parallel-item:only-child::after {width: 0;}#sk-container-id-1 div.sk-dashed-wrapped {border: 1px dashed gray;margin: 0 0.4em 0.5em 0.4em;box-sizing: border-box;padding-bottom: 0.4em;background-color: white;}#sk-container-id-1 div.sk-label label {font-family: monospace;font-weight: bold;display: inline-block;line-height: 1.2em;}#sk-container-id-1 div.sk-label-container {text-align: center;}#sk-container-id-1 div.sk-container {/* jupyter's `normalize.less` sets `[hidden] { display: none; }` but bootstrap.min.css set `[hidden] { display: none !important; }` so we also need the `!important` here to be able to override the default hidden behavior on the sphinx rendered scikit-learn.org. See: https://github.com/scikit-learn/scikit-learn/issues/21755 */display: inline-block !important;position: relative;}#sk-container-id-1 div.sk-text-repr-fallback {display: none;}</style><div id=\"sk-container-id-1\" class=\"sk-top-container\"><div class=\"sk-text-repr-fallback\"><pre>SGDClassifier(eta0=0.001, learning_rate=&#x27;constant&#x27;, loss=&#x27;log_loss&#x27;)</pre><b>In a Jupyter environment, please rerun this cell to show the HTML representation or trust the notebook. <br />On GitHub, the HTML representation is unable to render, please try loading this page with nbviewer.org.</b></div><div class=\"sk-container\" hidden><div class=\"sk-item\"><div class=\"sk-estimator sk-toggleable\"><input class=\"sk-toggleable__control sk-hidden--visually\" id=\"sk-estimator-id-1\" type=\"checkbox\" checked><label for=\"sk-estimator-id-1\" class=\"sk-toggleable__label sk-toggleable__label-arrow\">SGDClassifier</label><div class=\"sk-toggleable__content\"><pre>SGDClassifier(eta0=0.001, learning_rate=&#x27;constant&#x27;, loss=&#x27;log_loss&#x27;)</pre></div></div></div></div></div>"
            ],
            "text/plain": [
              "SGDClassifier(eta0=0.001, learning_rate='constant', loss='log_loss')"
            ]
          },
          "execution_count": 20,
          "metadata": {},
          "output_type": "execute_result"
        }
      ],
      "source": [
        "logistic_model_SGD = SGDClassifier(loss='log_loss',learning_rate='constant',eta0=0.001 )\n",
        "logistic_model_SGD.fit(book_x_train, book_y_train)"
      ]
    },
    {
      "cell_type": "code",
      "execution_count": 21,
      "metadata": {
        "colab": {
          "base_uri": "https://localhost:8080/"
        },
        "id": "EgmJFhVjvkZ1",
        "outputId": "c13bd8fa-1924-48fe-f0fb-f7f6099077e8"
      },
      "outputs": [
        {
          "name": "stdout",
          "output_type": "stream",
          "text": [
            "Classes of the dependent variable: ['negative' 'positive']\n",
            "\n",
            "\n",
            "Coefficient Vectors:\n",
            "[[ 0.00329221  0.          0.00592442 ...  0.01258183 -0.01842824\n",
            "  -0.0027081 ]]\n"
          ]
        }
      ],
      "source": [
        "print(f'Classes of the dependent variable: {logistic_model_SGD.classes_}')\n",
        "print('\\n')\n",
        "print('Coefficient Vectors:')\n",
        "print(logistic_model_SGD.coef_)\n"
      ]
    },
    {
      "cell_type": "markdown",
      "metadata": {
        "id": "1fuBcy7hv-cx"
      },
      "source": [
        "We are going to use this model to predict the same unlabeled data set to compare the results"
      ]
    },
    {
      "cell_type": "code",
      "execution_count": 22,
      "metadata": {
        "colab": {
          "base_uri": "https://localhost:8080/",
          "height": 612
        },
        "id": "X58euJ8vwEUx",
        "outputId": "8b8281e2-7b9a-4bcc-8cf2-cbdb5b4dff3c"
      },
      "outputs": [
        {
          "name": "stdout",
          "output_type": "stream",
          "text": [
            "Evaluating metrics\n",
            "              precision    recall  f1-score   support\n",
            "\n",
            "    negative     0.8024    0.7896    0.7960      2201\n",
            "    positive     0.7986    0.8110    0.8047      2264\n",
            "\n",
            "    accuracy                         0.8004      4465\n",
            "   macro avg     0.8005    0.8003    0.8004      4465\n",
            "weighted avg     0.8005    0.8004    0.8004      4465\n",
            "\n"
          ]
        },
        {
          "data": {
            "image/png": "[encoded data removed]",
            "text/plain": [
              "<Figure size 640x480 with 2 Axes>"
            ]
          },
          "metadata": {},
          "output_type": "display_data"
        }
      ],
      "source": [
        "evaluation(logistic_model_SGD, un_book_x_test, un_book_y_test)"
      ]
    },
    {
      "cell_type": "markdown",
      "metadata": {
        "id": "8-fcIorH3Ovk"
      },
      "source": [
        "### dvds"
      ]
    },
    {
      "cell_type": "markdown",
      "metadata": {
        "id": "Eh0DmNBB3Ovk"
      },
      "source": [
        "First we create the consolidated file and the dataframe"
      ]
    },
    {
      "cell_type": "code",
      "execution_count": 24,
      "metadata": {
        "id": "1fOCcegm3Ovk"
      },
      "outputs": [],
      "source": [
        "dvd_df = create_df('dvd_consolidated.csv')\n",
        "#print(dvd_df.sample(5))"
      ]
    },
    {
      "cell_type": "markdown",
      "metadata": {
        "id": "qaxJXRmT3Ovl"
      },
      "source": [
        "Then we apply the processing function"
      ]
    },
    {
      "cell_type": "code",
      "execution_count": 25,
      "metadata": {
        "id": "4DOCb_Z83Ovl"
      },
      "outputs": [],
      "source": [
        "processed_dvd_df = apply_processing(dvd_df)\n",
        "#print(processed_dvd_df.sample(5))"
      ]
    },
    {
      "cell_type": "markdown",
      "metadata": {
        "id": "jfttoF7d3Ovm"
      },
      "source": [
        "Lets check that the processing was done correctly"
      ]
    },
    {
      "cell_type": "code",
      "execution_count": 26,
      "metadata": {
        "colab": {
          "base_uri": "https://localhost:8080/"
        },
        "id": "uSz-daIC3Ovm",
        "outputId": "b9df152f-0962-4c75-877b-a1b45b0c2fea"
      },
      "outputs": [
        {
          "name": "stdout",
          "output_type": "stream",
          "text": [
            "Review 1000 before processing\n",
            " i i i i movie could movies i in only minutes and boring it only <num> me decent run out before was walked theater and long love a ever even was at anything you the theater might even miss waisted ran wouldn't worst movies unfortunately it good one of that bad before the movie movie too too long saw it decent actors ever seen how movies movies miss anything bad it's anything and it was movies were were waisted complaining <num> minutes <num> minutes were all ran <num> run in movie and a good one end it's them good suspense/horror and might people how boring love to end it ran have run couldn't long and me were enjoy it shame i all all walked out you wouldn't of them only a quarter shame minutes minutes and you actors worst entire movie and i end i all around the decent end end least the end entire wait for seen <num> <num> at least i saw a shame saw this movies enjoy actors in quarter of i love couldn't wait it unfortunately them walked boring have ever quarter might wouldn't miss unfortunately the worst out complaining how around around me i have wait all complaining minutes too this entire bad suspense/horror even enjoy theater least a suspense/horror movie before the people i couldn't people all\n",
            "Review 1000 after processing\n",
            "i i movi could movi in onli minut and bore it onli num me decent run out befor was walk theater and long love ever even was at anyth you the theater might even miss waist ran wouldn worst movi unfortun it good one of that bad befor the movi movi too too long saw it decent actor ever seen how movi movi miss anyth bad it anyth and it was movi were were waist complain num minut num minut were all ran num run in movi and good one end it them good suspens horror and might peopl how bore love to end it ran have run couldn long and me were enjoy it shame all all walk out you wouldn of them onli quarter shame minut minut and you actor worst entir movi and end all around the decent end end least the end entir wait for seen num num at least saw shame saw this movi enjoy actor in quarter of love couldn wait it unfortun them walk bore have ever quarter might wouldn miss unfortun the worst out complain how around around me have wait all complain minut too this entir bad suspens horror even enjoy theater least suspens horror movi befor the peopl couldn peopl all\n"
          ]
        }
      ],
      "source": [
        "print(\"Review 1000 before processing\")\n",
        "print(dvd_df.loc[1000]['review'])\n",
        "print(\"Review 1000 after processing\")\n",
        "print(processed_dvd_df.loc[1000]['processed'])"
      ]
    },
    {
      "cell_type": "markdown",
      "metadata": {
        "id": "9k8h50fo3Ovm"
      },
      "source": [
        "We are extracting the features using the vectorizer we created previously, and we are also saving that trained vectorizer so that we can reuse it when testing the unlabeled files"
      ]
    },
    {
      "cell_type": "code",
      "execution_count": 27,
      "metadata": {
        "colab": {
          "base_uri": "https://localhost:8080/"
        },
        "id": "Y8rBpDG73Ovn",
        "outputId": "bd037d57-e51a-4243-fa17-6ea3cdd5d456"
      },
      "outputs": [
        {
          "name": "stdout",
          "output_type": "stream",
          "text": [
            "['aa' 'aaaaahhhhh' 'aal' 'aaron' 'aarp' 'ab' 'aba' 'abagnal' 'abandon'\n",
            " 'abattoir']\n"
          ]
        }
      ],
      "source": [
        "dvd_fv = bow(processed_dvd_df['processed'].values)\n",
        "dvd_features = dvd_fv['features']\n",
        "dvd_vectorizer = dvd_fv['vectorizer']"
      ]
    },
    {
      "cell_type": "markdown",
      "metadata": {
        "id": "Wv_cHSCt3Ovn"
      },
      "source": [
        "We train the model using Multinomial Naive Bayes"
      ]
    },
    {
      "cell_type": "code",
      "execution_count": 28,
      "metadata": {
        "id": "MVXkWvV-3Ovn"
      },
      "outputs": [],
      "source": [
        "dvd_labels = processed_dvd_df['label'].values\n",
        "dvd_model = NB(dvd_features, dvd_labels)"
      ]
    },
    {
      "cell_type": "code",
      "execution_count": 29,
      "metadata": {
        "id": "y5z76vpW3Ovo"
      },
      "outputs": [],
      "source": [
        "dvd_nb = dvd_model['model']\n",
        "dvd_x_train = dvd_model['x_train']\n",
        "dvd_x_test = dvd_model['x_test']\n",
        "dvd_y_train = dvd_model['y_train']\n",
        "dvd_y_test = dvd_model['y_test']"
      ]
    },
    {
      "cell_type": "markdown",
      "metadata": {
        "id": "rZft_uBk3Ovo"
      },
      "source": [
        "#### Evaluation with the training data set"
      ]
    },
    {
      "cell_type": "markdown",
      "metadata": {
        "id": "CPX_1QPW3Ovo"
      },
      "source": [
        "Finally we evaluate the model using theese metrics"
      ]
    },
    {
      "cell_type": "code",
      "execution_count": 30,
      "metadata": {
        "colab": {
          "base_uri": "https://localhost:8080/",
          "height": 612
        },
        "id": "7f5wn7mF3Ovo",
        "outputId": "ad78d910-557c-4ec8-8c7c-3c769277f743"
      },
      "outputs": [
        {
          "name": "stdout",
          "output_type": "stream",
          "text": [
            "Evaluating metrics\n",
            "              precision    recall  f1-score   support\n",
            "\n",
            "    negative     0.7647    0.8450    0.8029       200\n",
            "    positive     0.8268    0.7400    0.7810       200\n",
            "\n",
            "    accuracy                         0.7925       400\n",
            "   macro avg     0.7958    0.7925    0.7919       400\n",
            "weighted avg     0.7958    0.7925    0.7919       400\n",
            "\n"
          ]
        },
        {
          "data": {
            "image/png": "[encoded data removed]",
            "text/plain": [
              "<Figure size 640x480 with 2 Axes>"
            ]
          },
          "metadata": {},
          "output_type": "display_data"
        }
      ],
      "source": [
        "evaluation(dvd_nb, dvd_x_test, dvd_y_test)"
      ]
    },
    {
      "cell_type": "markdown",
      "metadata": {
        "id": "tw_kjpxr3Ovp"
      },
      "source": [
        "#### Evaluating with the unlabeled data set"
      ]
    },
    {
      "cell_type": "code",
      "execution_count": 32,
      "metadata": {
        "id": "V-y79NT93Ovp"
      },
      "outputs": [],
      "source": [
        "dvd_test_df = create_df('dvd_test.csv')"
      ]
    },
    {
      "cell_type": "code",
      "execution_count": 33,
      "metadata": {
        "id": "2A52qwyw3Ovp"
      },
      "outputs": [],
      "source": [
        "processed_test_dvd_df = apply_processing(dvd_test_df)"
      ]
    },
    {
      "cell_type": "code",
      "execution_count": 34,
      "metadata": {
        "id": "mhWKdq-t3Ovp"
      },
      "outputs": [],
      "source": [
        "test_dvd_features = dvd_vectorizer.transform(processed_test_dvd_df['processed'].values)"
      ]
    },
    {
      "cell_type": "code",
      "execution_count": 35,
      "metadata": {
        "colab": {
          "base_uri": "https://localhost:8080/",
          "height": 612
        },
        "id": "PaeZZ4Ga3Ovq",
        "outputId": "67c0a977-b8d5-47e3-fde5-a7aab5a211e2"
      },
      "outputs": [
        {
          "name": "stdout",
          "output_type": "stream",
          "text": [
            "Evaluating metrics\n",
            "              precision    recall  f1-score   support\n",
            "\n",
            "    negative     0.7663    0.8038    0.7846      1779\n",
            "    positive     0.7971    0.7587    0.7774      1807\n",
            "\n",
            "    accuracy                         0.7811      3586\n",
            "   macro avg     0.7817    0.7813    0.7810      3586\n",
            "weighted avg     0.7818    0.7811    0.7810      3586\n",
            "\n"
          ]
        },
        {
          "data": {
            "image/png": "[encoded data removed]",
            "text/plain": [
              "<Figure size 640x480 with 2 Axes>"
            ]
          },
          "metadata": {},
          "output_type": "display_data"
        }
      ],
      "source": [
        "un_dvd_x_test = test_dvd_features\n",
        "un_dvd_y_test = processed_test_dvd_df['label'].values\n",
        "\n",
        "evaluation(dvd_nb, un_dvd_x_test, un_dvd_y_test)"
      ]
    },
    {
      "cell_type": "markdown",
      "metadata": {
        "id": "IMQT9jzP3Ovq"
      },
      "source": [
        "#### Regresion logistica"
      ]
    },
    {
      "cell_type": "markdown",
      "metadata": {
        "id": "dzA2O70N3Ovr"
      },
      "source": [
        "We are creating a logistic SGD model"
      ]
    },
    {
      "cell_type": "code",
      "execution_count": 36,
      "metadata": {
        "colab": {
          "base_uri": "https://localhost:8080/",
          "height": 72
        },
        "id": "IemUmyc33Ovr",
        "outputId": "ebf7b672-9483-4041-8a23-61b6a9dd29f8"
      },
      "outputs": [
        {
          "data": {
            "text/html": [
              "<style>#sk-container-id-2 {color: black;background-color: white;}#sk-container-id-2 pre{padding: 0;}#sk-container-id-2 div.sk-toggleable {background-color: white;}#sk-container-id-2 label.sk-toggleable__label {cursor: pointer;display: block;width: 100%;margin-bottom: 0;padding: 0.3em;box-sizing: border-box;text-align: center;}#sk-container-id-2 label.sk-toggleable__label-arrow:before {content: \"▸\";float: left;margin-right: 0.25em;color: #696969;}#sk-container-id-2 label.sk-toggleable__label-arrow:hover:before {color: black;}#sk-container-id-2 div.sk-estimator:hover label.sk-toggleable__label-arrow:before {color: black;}#sk-container-id-2 div.sk-toggleable__content {max-height: 0;max-width: 0;overflow: hidden;text-align: left;background-color: #f0f8ff;}#sk-container-id-2 div.sk-toggleable__content pre {margin: 0.2em;color: black;border-radius: 0.25em;background-color: #f0f8ff;}#sk-container-id-2 input.sk-toggleable__control:checked~div.sk-toggleable__content {max-height: 200px;max-width: 100%;overflow: auto;}#sk-container-id-2 input.sk-toggleable__control:checked~label.sk-toggleable__label-arrow:before {content: \"▾\";}#sk-container-id-2 div.sk-estimator input.sk-toggleable__control:checked~label.sk-toggleable__label {background-color: #d4ebff;}#sk-container-id-2 div.sk-label input.sk-toggleable__control:checked~label.sk-toggleable__label {background-color: #d4ebff;}#sk-container-id-2 input.sk-hidden--visually {border: 0;clip: rect(1px 1px 1px 1px);clip: rect(1px, 1px, 1px, 1px);height: 1px;margin: -1px;overflow: hidden;padding: 0;position: absolute;width: 1px;}#sk-container-id-2 div.sk-estimator {font-family: monospace;background-color: #f0f8ff;border: 1px dotted black;border-radius: 0.25em;box-sizing: border-box;margin-bottom: 0.5em;}#sk-container-id-2 div.sk-estimator:hover {background-color: #d4ebff;}#sk-container-id-2 div.sk-parallel-item::after {content: \"\";width: 100%;border-bottom: 1px solid gray;flex-grow: 1;}#sk-container-id-2 div.sk-label:hover label.sk-toggleable__label {background-color: #d4ebff;}#sk-container-id-2 div.sk-serial::before {content: \"\";position: absolute;border-left: 1px solid gray;box-sizing: border-box;top: 0;bottom: 0;left: 50%;z-index: 0;}#sk-container-id-2 div.sk-serial {display: flex;flex-direction: column;align-items: center;background-color: white;padding-right: 0.2em;padding-left: 0.2em;position: relative;}#sk-container-id-2 div.sk-item {position: relative;z-index: 1;}#sk-container-id-2 div.sk-parallel {display: flex;align-items: stretch;justify-content: center;background-color: white;position: relative;}#sk-container-id-2 div.sk-item::before, #sk-container-id-2 div.sk-parallel-item::before {content: \"\";position: absolute;border-left: 1px solid gray;box-sizing: border-box;top: 0;bottom: 0;left: 50%;z-index: -1;}#sk-container-id-2 div.sk-parallel-item {display: flex;flex-direction: column;z-index: 1;position: relative;background-color: white;}#sk-container-id-2 div.sk-parallel-item:first-child::after {align-self: flex-end;width: 50%;}#sk-container-id-2 div.sk-parallel-item:last-child::after {align-self: flex-start;width: 50%;}#sk-container-id-2 div.sk-parallel-item:only-child::after {width: 0;}#sk-container-id-2 div.sk-dashed-wrapped {border: 1px dashed gray;margin: 0 0.4em 0.5em 0.4em;box-sizing: border-box;padding-bottom: 0.4em;background-color: white;}#sk-container-id-2 div.sk-label label {font-family: monospace;font-weight: bold;display: inline-block;line-height: 1.2em;}#sk-container-id-2 div.sk-label-container {text-align: center;}#sk-container-id-2 div.sk-container {/* jupyter's `normalize.less` sets `[hidden] { display: none; }` but bootstrap.min.css set `[hidden] { display: none !important; }` so we also need the `!important` here to be able to override the default hidden behavior on the sphinx rendered scikit-learn.org. See: https://github.com/scikit-learn/scikit-learn/issues/21755 */display: inline-block !important;position: relative;}#sk-container-id-2 div.sk-text-repr-fallback {display: none;}</style><div id=\"sk-container-id-2\" class=\"sk-top-container\"><div class=\"sk-text-repr-fallback\"><pre>SGDClassifier(eta0=0.001, learning_rate=&#x27;constant&#x27;, loss=&#x27;log_loss&#x27;)</pre><b>In a Jupyter environment, please rerun this cell to show the HTML representation or trust the notebook. <br />On GitHub, the HTML representation is unable to render, please try loading this page with nbviewer.org.</b></div><div class=\"sk-container\" hidden><div class=\"sk-item\"><div class=\"sk-estimator sk-toggleable\"><input class=\"sk-toggleable__control sk-hidden--visually\" id=\"sk-estimator-id-2\" type=\"checkbox\" checked><label for=\"sk-estimator-id-2\" class=\"sk-toggleable__label sk-toggleable__label-arrow\">SGDClassifier</label><div class=\"sk-toggleable__content\"><pre>SGDClassifier(eta0=0.001, learning_rate=&#x27;constant&#x27;, loss=&#x27;log_loss&#x27;)</pre></div></div></div></div></div>"
            ],
            "text/plain": [
              "SGDClassifier(eta0=0.001, learning_rate='constant', loss='log_loss')"
            ]
          },
          "execution_count": 36,
          "metadata": {},
          "output_type": "execute_result"
        }
      ],
      "source": [
        "logistic_model_SGD = SGDClassifier(loss='log_loss',learning_rate='constant',eta0=0.001 )\n",
        "logistic_model_SGD.fit(dvd_x_train, dvd_y_train)"
      ]
    },
    {
      "cell_type": "code",
      "execution_count": 37,
      "metadata": {
        "colab": {
          "base_uri": "https://localhost:8080/"
        },
        "id": "rN_qzVvz3Ovs",
        "outputId": "aaf8f3b6-2004-408f-e5e7-97ae6951beb8"
      },
      "outputs": [
        {
          "name": "stdout",
          "output_type": "stream",
          "text": [
            "Classes of the dependent variable: ['negative' 'positive']\n",
            "\n",
            "\n",
            "Coefficient Vectors:\n",
            "[[-0.07636681  0.03164309  0.00275809 ...  0.         -0.00302665\n",
            "  -0.00610054]]\n"
          ]
        }
      ],
      "source": [
        "print(f'Classes of the dependent variable: {logistic_model_SGD.classes_}')\n",
        "print('\\n')\n",
        "print('Coefficient Vectors:')\n",
        "print(logistic_model_SGD.coef_)\n"
      ]
    },
    {
      "cell_type": "markdown",
      "metadata": {
        "id": "6k7BsG_J3Ovt"
      },
      "source": [
        "We are going to use this model to predict the same unlabeled data set to compare the results"
      ]
    },
    {
      "cell_type": "code",
      "execution_count": 38,
      "metadata": {
        "colab": {
          "base_uri": "https://localhost:8080/",
          "height": 612
        },
        "id": "j3WOodc83Ovt",
        "outputId": "67a284e9-e97c-4890-9550-0957a57561b2"
      },
      "outputs": [
        {
          "name": "stdout",
          "output_type": "stream",
          "text": [
            "Evaluating metrics\n",
            "              precision    recall  f1-score   support\n",
            "\n",
            "    negative     0.8207    0.7718    0.7955      1779\n",
            "    positive     0.7878    0.8340    0.8102      1807\n",
            "\n",
            "    accuracy                         0.8031      3586\n",
            "   macro avg     0.8042    0.8029    0.8028      3586\n",
            "weighted avg     0.8041    0.8031    0.8029      3586\n",
            "\n"
          ]
        },
        {
          "data": {
            "image/png": "[encoded data removed]",
            "text/plain": [
              "<Figure size 640x480 with 2 Axes>"
            ]
          },
          "metadata": {},
          "output_type": "display_data"
        }
      ],
      "source": [
        "evaluation(logistic_model_SGD, un_dvd_x_test, un_dvd_y_test)"
      ]
    },
    {
      "cell_type": "markdown",
      "metadata": {
        "id": "fPEkVxa23Ovu"
      },
      "source": [
        "### electronicss"
      ]
    },
    {
      "cell_type": "markdown",
      "metadata": {
        "id": "2dAZhzAK3Ovu"
      },
      "source": [
        "First we create the consolidated file and the dataframe"
      ]
    },
    {
      "cell_type": "code",
      "execution_count": 40,
      "metadata": {
        "id": "nuKnQQ0y3Ovu"
      },
      "outputs": [],
      "source": [
        "electronics_df = create_df('electronics_consolidated.csv')\n",
        "#print(electronics_df.sample(5))"
      ]
    },
    {
      "cell_type": "markdown",
      "metadata": {
        "id": "H4Mqo2W13Ovu"
      },
      "source": [
        "Then we apply the processing function"
      ]
    },
    {
      "cell_type": "code",
      "execution_count": 41,
      "metadata": {
        "id": "KEnoZDx33Ovv"
      },
      "outputs": [],
      "source": [
        "processed_electronics_df = apply_processing(electronics_df)\n",
        "#print(processed_electronics_df.sample(5))"
      ]
    },
    {
      "cell_type": "markdown",
      "metadata": {
        "id": "OaIPn90Y3Ovv"
      },
      "source": [
        "Lets check that the processing was done correctly"
      ]
    },
    {
      "cell_type": "code",
      "execution_count": 42,
      "metadata": {
        "colab": {
          "base_uri": "https://localhost:8080/"
        },
        "id": "jVjrkcaj3Ovv",
        "outputId": "472b0796-cb05-4cdd-8afe-0bfdbed45f73"
      },
      "outputs": [
        {
          "name": "stdout",
          "output_type": "stream",
          "text": [
            "Review 1000 before processing\n",
            " gaps well it together a stack the cd bottom are gaps cd cd cd constips a cd to fit vertical cd was cds stacked that well easy on metal even casses you you you bought i loose fittingpros..........i rack that even fit fit cds on carpet pain the toppoorly just cd from cds cds cds cds gaps and designed it metal just fit fit holes.again..poorly designed stack you get to carpet stack to well there holes.again..poorly extremely easy a vertical basically piece a pain cd casses was a itputting it you want designed doesnt i had you have you have that doesnt so if toppoorly whole stack one guide holes.again..poorly the one guess it bottom of get its guide together want to itputting if if a piece pull piece of the bottom lot of lot of have basically stacked slots for break a cds so rack lot lot of cds of cds casses are break individual doesnt doesnt itputting loose carpet and of metal for cds vertical basically pull want a one i i i designed designed so whole to break cds that fittingpros..........i guess fit it extremely fittingpros..........i easy stack stack stacked at individual slots cd rack are loose can hold i bought if you if you just to pain the together was doesnt even constips extremely hold guess slots doesnt have bad to get guide toppoorly designed and if a lot a lot hold a pull the bought have individual the whole\n",
            "Review 1000 after processing\n",
            "gap well it togeth stack the cd bottom are gap cd cd cd constip cd to fit vertic cd was cds stack that well easi on metal even cass you you you bought loos fittingpro rack that even fit fit cds on carpet pain the toppoor just cd from cds cds cds cds gap and design it metal just fit fit hole again poor design stack you get to carpet stack to well there hole again poor extrem easi vertic basic piec pain cd cass was itput it you want design doesnt had you have you have that doesnt so if toppoor whole stack one guid hole again poor the one guess it bottom of get it guid togeth want to itput if if piec pull piec of the bottom lot of lot of have basic stack slot for break cds so rack lot lot of cds of cds cass are break individu doesnt doesnt itput loos carpet and of metal for cds vertic basic pull want one i design design so whole to break cds that fittingpro guess fit it extrem fittingpro easi stack stack stack at individu slot cd rack are loos can hold bought if you if you just to pain the togeth was doesnt even constip extrem hold guess slot doesnt have bad to get guid toppoor design and if lot lot hold pull the bought have individu the whole\n"
          ]
        }
      ],
      "source": [
        "print(\"Review 1000 before processing\")\n",
        "print(electronics_df.loc[1000]['review'])\n",
        "print(\"Review 1000 after processing\")\n",
        "print(processed_electronics_df.loc[1000]['processed'])"
      ]
    },
    {
      "cell_type": "markdown",
      "metadata": {
        "id": "jhRMvYBX3Ovv"
      },
      "source": [
        "We are extracting the features using the vectorizer we created previously, and we are also saving that trained vectorizer so that we can reuse it when testing the unlabeled files"
      ]
    },
    {
      "cell_type": "code",
      "execution_count": 43,
      "metadata": {
        "colab": {
          "base_uri": "https://localhost:8080/"
        },
        "id": "qQsSnyEf3Ovw",
        "outputId": "3d4b25aa-4dfd-4fb1-ec55-5b6d136f65cb"
      },
      "outputs": [
        {
          "name": "stdout",
          "output_type": "stream",
          "text": [
            "['aa' 'aaa' 'aac' 'aaron' 'aat' 'ab' 'aback' 'aband' 'abandon' 'abc']\n"
          ]
        }
      ],
      "source": [
        "electronics_fv = bow(processed_electronics_df['processed'].values)\n",
        "electronics_features = electronics_fv['features']\n",
        "electronics_vectorizer = electronics_fv['vectorizer']"
      ]
    },
    {
      "cell_type": "markdown",
      "metadata": {
        "id": "EFPLq1yZ3Ovw"
      },
      "source": [
        "We train the model using Multinomial Naive Bayes"
      ]
    },
    {
      "cell_type": "code",
      "execution_count": 44,
      "metadata": {
        "id": "ldiFbuQM3Ovw"
      },
      "outputs": [],
      "source": [
        "electronics_labels = processed_electronics_df['label'].values\n",
        "electronics_model = NB(electronics_features, electronics_labels)"
      ]
    },
    {
      "cell_type": "code",
      "execution_count": 45,
      "metadata": {
        "id": "7XrgmmJS3Ovx"
      },
      "outputs": [],
      "source": [
        "electronics_nb = electronics_model['model']\n",
        "electronics_x_train = electronics_model['x_train']\n",
        "electronics_x_test = electronics_model['x_test']\n",
        "electronics_y_train = electronics_model['y_train']\n",
        "electronics_y_test = electronics_model['y_test']"
      ]
    },
    {
      "cell_type": "markdown",
      "metadata": {
        "id": "LrbYHrCq3Ovx"
      },
      "source": [
        "#### Evaluation with the training data set"
      ]
    },
    {
      "cell_type": "markdown",
      "metadata": {
        "id": "8Dw-zqAl3Ovy"
      },
      "source": [
        "Finally we evaluate the model using theese metrics"
      ]
    },
    {
      "cell_type": "code",
      "execution_count": 46,
      "metadata": {
        "colab": {
          "base_uri": "https://localhost:8080/",
          "height": 618
        },
        "id": "dmlWkSHw3Ovy",
        "outputId": "66871b11-2287-4b44-df9d-c14460668540"
      },
      "outputs": [
        {
          "name": "stdout",
          "output_type": "stream",
          "text": [
            "Evaluating metrics\n",
            "              precision    recall  f1-score   support\n",
            "\n",
            "    negative     0.8000    0.8000    0.8000       200\n",
            "    positive     0.8000    0.8000    0.8000       200\n",
            "\n",
            "    accuracy                         0.8000       400\n",
            "   macro avg     0.8000    0.8000    0.8000       400\n",
            "weighted avg     0.8000    0.8000    0.8000       400\n",
            "\n"
          ]
        },
        {
          "data": {
            "image/png": "[encoded data removed]",
            "text/plain": [
              "<Figure size 640x480 with 2 Axes>"
            ]
          },
          "metadata": {},
          "output_type": "display_data"
        }
      ],
      "source": [
        "evaluation(electronics_nb, electronics_x_test, electronics_y_test)"
      ]
    },
    {
      "cell_type": "markdown",
      "metadata": {
        "id": "K8g7r1o63Ovy"
      },
      "source": [
        "#### Evaluating with the unlabeled data set"
      ]
    },
    {
      "cell_type": "code",
      "execution_count": 48,
      "metadata": {
        "id": "v4a6Gn8V3Ovz"
      },
      "outputs": [],
      "source": [
        "electronics_test_df = create_df('electronics_test.csv')"
      ]
    },
    {
      "cell_type": "code",
      "execution_count": 49,
      "metadata": {
        "id": "PCVXQxsF3Ovz"
      },
      "outputs": [],
      "source": [
        "processed_test_electronics_df = apply_processing(electronics_test_df)"
      ]
    },
    {
      "cell_type": "code",
      "execution_count": 50,
      "metadata": {
        "id": "UvONRLc63Ov0"
      },
      "outputs": [],
      "source": [
        "test_electronics_features = electronics_vectorizer.transform(processed_test_electronics_df['processed'].values)"
      ]
    },
    {
      "cell_type": "code",
      "execution_count": 51,
      "metadata": {
        "colab": {
          "base_uri": "https://localhost:8080/",
          "height": 612
        },
        "id": "6-98uZDm3Ov0",
        "outputId": "c89406ae-a4f9-4147-9e1a-4070b63d85c8"
      },
      "outputs": [
        {
          "name": "stdout",
          "output_type": "stream",
          "text": [
            "Evaluating metrics\n",
            "              precision    recall  f1-score   support\n",
            "\n",
            "    negative     0.8083    0.7943    0.8012      2824\n",
            "    positive     0.8001    0.8138    0.8069      2857\n",
            "\n",
            "    accuracy                         0.8041      5681\n",
            "   macro avg     0.8042    0.8040    0.8040      5681\n",
            "weighted avg     0.8042    0.8041    0.8041      5681\n",
            "\n"
          ]
        },
        {
          "data": {
            "image/png": "[encoded data removed]",
            "text/plain": [
              "<Figure size 640x480 with 2 Axes>"
            ]
          },
          "metadata": {},
          "output_type": "display_data"
        }
      ],
      "source": [
        "un_electronics_x_test = test_electronics_features\n",
        "un_electronics_y_test = processed_test_electronics_df['label'].values\n",
        "\n",
        "evaluation(electronics_nb, un_electronics_x_test, un_electronics_y_test)"
      ]
    },
    {
      "cell_type": "markdown",
      "metadata": {
        "id": "qKM19Yt13Ov0"
      },
      "source": [
        "#### Regresion logistica"
      ]
    },
    {
      "cell_type": "markdown",
      "metadata": {
        "id": "ohca_tRc3Ov0"
      },
      "source": [
        "We are creating a logistic SGD model"
      ]
    },
    {
      "cell_type": "code",
      "execution_count": 52,
      "metadata": {
        "colab": {
          "base_uri": "https://localhost:8080/",
          "height": 72
        },
        "id": "Y0ipBGhL3Ov1",
        "outputId": "398cee38-bdf1-4e6d-ae1c-2b18a78cf96b"
      },
      "outputs": [
        {
          "data": {
            "text/html": [
              "<style>#sk-container-id-3 {color: black;background-color: white;}#sk-container-id-3 pre{padding: 0;}#sk-container-id-3 div.sk-toggleable {background-color: white;}#sk-container-id-3 label.sk-toggleable__label {cursor: pointer;display: block;width: 100%;margin-bottom: 0;padding: 0.3em;box-sizing: border-box;text-align: center;}#sk-container-id-3 label.sk-toggleable__label-arrow:before {content: \"▸\";float: left;margin-right: 0.25em;color: #696969;}#sk-container-id-3 label.sk-toggleable__label-arrow:hover:before {color: black;}#sk-container-id-3 div.sk-estimator:hover label.sk-toggleable__label-arrow:before {color: black;}#sk-container-id-3 div.sk-toggleable__content {max-height: 0;max-width: 0;overflow: hidden;text-align: left;background-color: #f0f8ff;}#sk-container-id-3 div.sk-toggleable__content pre {margin: 0.2em;color: black;border-radius: 0.25em;background-color: #f0f8ff;}#sk-container-id-3 input.sk-toggleable__control:checked~div.sk-toggleable__content {max-height: 200px;max-width: 100%;overflow: auto;}#sk-container-id-3 input.sk-toggleable__control:checked~label.sk-toggleable__label-arrow:before {content: \"▾\";}#sk-container-id-3 div.sk-estimator input.sk-toggleable__control:checked~label.sk-toggleable__label {background-color: #d4ebff;}#sk-container-id-3 div.sk-label input.sk-toggleable__control:checked~label.sk-toggleable__label {background-color: #d4ebff;}#sk-container-id-3 input.sk-hidden--visually {border: 0;clip: rect(1px 1px 1px 1px);clip: rect(1px, 1px, 1px, 1px);height: 1px;margin: -1px;overflow: hidden;padding: 0;position: absolute;width: 1px;}#sk-container-id-3 div.sk-estimator {font-family: monospace;background-color: #f0f8ff;border: 1px dotted black;border-radius: 0.25em;box-sizing: border-box;margin-bottom: 0.5em;}#sk-container-id-3 div.sk-estimator:hover {background-color: #d4ebff;}#sk-container-id-3 div.sk-parallel-item::after {content: \"\";width: 100%;border-bottom: 1px solid gray;flex-grow: 1;}#sk-container-id-3 div.sk-label:hover label.sk-toggleable__label {background-color: #d4ebff;}#sk-container-id-3 div.sk-serial::before {content: \"\";position: absolute;border-left: 1px solid gray;box-sizing: border-box;top: 0;bottom: 0;left: 50%;z-index: 0;}#sk-container-id-3 div.sk-serial {display: flex;flex-direction: column;align-items: center;background-color: white;padding-right: 0.2em;padding-left: 0.2em;position: relative;}#sk-container-id-3 div.sk-item {position: relative;z-index: 1;}#sk-container-id-3 div.sk-parallel {display: flex;align-items: stretch;justify-content: center;background-color: white;position: relative;}#sk-container-id-3 div.sk-item::before, #sk-container-id-3 div.sk-parallel-item::before {content: \"\";position: absolute;border-left: 1px solid gray;box-sizing: border-box;top: 0;bottom: 0;left: 50%;z-index: -1;}#sk-container-id-3 div.sk-parallel-item {display: flex;flex-direction: column;z-index: 1;position: relative;background-color: white;}#sk-container-id-3 div.sk-parallel-item:first-child::after {align-self: flex-end;width: 50%;}#sk-container-id-3 div.sk-parallel-item:last-child::after {align-self: flex-start;width: 50%;}#sk-container-id-3 div.sk-parallel-item:only-child::after {width: 0;}#sk-container-id-3 div.sk-dashed-wrapped {border: 1px dashed gray;margin: 0 0.4em 0.5em 0.4em;box-sizing: border-box;padding-bottom: 0.4em;background-color: white;}#sk-container-id-3 div.sk-label label {font-family: monospace;font-weight: bold;display: inline-block;line-height: 1.2em;}#sk-container-id-3 div.sk-label-container {text-align: center;}#sk-container-id-3 div.sk-container {/* jupyter's `normalize.less` sets `[hidden] { display: none; }` but bootstrap.min.css set `[hidden] { display: none !important; }` so we also need the `!important` here to be able to override the default hidden behavior on the sphinx rendered scikit-learn.org. See: https://github.com/scikit-learn/scikit-learn/issues/21755 */display: inline-block !important;position: relative;}#sk-container-id-3 div.sk-text-repr-fallback {display: none;}</style><div id=\"sk-container-id-3\" class=\"sk-top-container\"><div class=\"sk-text-repr-fallback\"><pre>SGDClassifier(eta0=0.001, learning_rate=&#x27;constant&#x27;, loss=&#x27;log_loss&#x27;)</pre><b>In a Jupyter environment, please rerun this cell to show the HTML representation or trust the notebook. <br />On GitHub, the HTML representation is unable to render, please try loading this page with nbviewer.org.</b></div><div class=\"sk-container\" hidden><div class=\"sk-item\"><div class=\"sk-estimator sk-toggleable\"><input class=\"sk-toggleable__control sk-hidden--visually\" id=\"sk-estimator-id-3\" type=\"checkbox\" checked><label for=\"sk-estimator-id-3\" class=\"sk-toggleable__label sk-toggleable__label-arrow\">SGDClassifier</label><div class=\"sk-toggleable__content\"><pre>SGDClassifier(eta0=0.001, learning_rate=&#x27;constant&#x27;, loss=&#x27;log_loss&#x27;)</pre></div></div></div></div></div>"
            ],
            "text/plain": [
              "SGDClassifier(eta0=0.001, learning_rate='constant', loss='log_loss')"
            ]
          },
          "execution_count": 52,
          "metadata": {},
          "output_type": "execute_result"
        }
      ],
      "source": [
        "logistic_model_SGD = SGDClassifier(loss='log_loss',learning_rate='constant',eta0=0.001 )\n",
        "logistic_model_SGD.fit(electronics_x_train, electronics_y_train)"
      ]
    },
    {
      "cell_type": "code",
      "execution_count": 53,
      "metadata": {
        "colab": {
          "base_uri": "https://localhost:8080/"
        },
        "id": "u1x6xbT13Ov1",
        "outputId": "7d2ad84a-9858-4ae1-c46f-bb1b03339686"
      },
      "outputs": [
        {
          "name": "stdout",
          "output_type": "stream",
          "text": [
            "Classes of the dependent variable: ['negative' 'positive']\n",
            "\n",
            "\n",
            "Coefficient Vectors:\n",
            "[[ 0.05531751 -0.01896357  0.00027098 ...  0.00553133  0.05394873\n",
            "  -0.00534628]]\n"
          ]
        }
      ],
      "source": [
        "print(f'Classes of the dependent variable: {logistic_model_SGD.classes_}')\n",
        "print('\\n')\n",
        "print('Coefficient Vectors:')\n",
        "print(logistic_model_SGD.coef_)\n"
      ]
    },
    {
      "cell_type": "markdown",
      "metadata": {
        "id": "JDrnbSIS3Ov2"
      },
      "source": [
        "We are going to use this model to predict the same unlabeled data set to compare the results"
      ]
    },
    {
      "cell_type": "code",
      "execution_count": 54,
      "metadata": {
        "colab": {
          "base_uri": "https://localhost:8080/",
          "height": 612
        },
        "id": "XGTCL_Y43Ov2",
        "outputId": "1ba30d5f-cb0e-4f42-d678-e9211a4622f5"
      },
      "outputs": [
        {
          "name": "stdout",
          "output_type": "stream",
          "text": [
            "Evaluating metrics\n",
            "              precision    recall  f1-score   support\n",
            "\n",
            "    negative     0.8432    0.8205    0.8317      2824\n",
            "    positive     0.8271    0.8491    0.8380      2857\n",
            "\n",
            "    accuracy                         0.8349      5681\n",
            "   macro avg     0.8351    0.8348    0.8348      5681\n",
            "weighted avg     0.8351    0.8349    0.8348      5681\n",
            "\n"
          ]
        },
        {
          "data": {
            "image/png": "[encoded data removed]",
            "text/plain": [
              "<Figure size 640x480 with 2 Axes>"
            ]
          },
          "metadata": {},
          "output_type": "display_data"
        }
      ],
      "source": [
        "evaluation(logistic_model_SGD, un_electronics_x_test, un_electronics_y_test)"
      ]
    },
    {
      "cell_type": "markdown",
      "metadata": {
        "id": "xWKy0jU53Ov2"
      },
      "source": [
        "### kitchens"
      ]
    },
    {
      "cell_type": "markdown",
      "metadata": {
        "id": "VJnlQ71f3Ov3"
      },
      "source": [
        "First we create the consolidated file and the dataframe"
      ]
    },
    {
      "cell_type": "code",
      "execution_count": 56,
      "metadata": {
        "id": "tTT5Xix63Ov3"
      },
      "outputs": [],
      "source": [
        "kitchen_df = create_df('kitchen_consolidated.csv')\n",
        "#print(kitchen_df.sample(5))"
      ]
    },
    {
      "cell_type": "markdown",
      "metadata": {
        "id": "Y_QaDGYJ3Ov3"
      },
      "source": [
        "Then we apply the processing function"
      ]
    },
    {
      "cell_type": "code",
      "execution_count": 57,
      "metadata": {
        "id": "A6dOPJSh3Ov4"
      },
      "outputs": [],
      "source": [
        "processed_kitchen_df = apply_processing(kitchen_df)\n",
        "#print(processed_kitchen_df.sample(5))"
      ]
    },
    {
      "cell_type": "markdown",
      "metadata": {
        "id": "I5mOQVPk3Ov4"
      },
      "source": [
        "Lets check that the processing was done correctly"
      ]
    },
    {
      "cell_type": "code",
      "execution_count": 58,
      "metadata": {
        "colab": {
          "base_uri": "https://localhost:8080/"
        },
        "id": "7i4tLVfn3Ov4",
        "outputId": "d74b758f-2c56-40f5-b335-39cf326c6289"
      },
      "outputs": [
        {
          "name": "stdout",
          "output_type": "stream",
          "text": [
            "Review 1000 before processing\n",
            " right after guess dog well well fill to work it seems keep other small work <num> working very care barks cairn small dog time...and fairly sure why is supposed emits--and barks just looks either does such a for my either away emits--and such sure it either my my they're getting again!it to care the spray care if does not a persistent getting sprayed just just my other sprays as we're not looks sprays if they're are just is not my yappy too stubborn doesn't work looks away when dog who barker barking they're we fill fill it not sure work work work sprayed i long.it does also seems also doesn't small cairn from we sprayed again!it also yappy persistent barker where not such persistent why terriers isn't working long.it who if just too very <num> of time...and we're from where right work well he very long.it well for supposed to too when we terriers are we're after but keep my <num> other getting after i stubborn yappy cairn not not not the time...and as many stubborn to supposed where the well right fairly well doesn't doesn't work fairly many sprays why when barker terriers does work not have from barking away from many who is working he just barks again!it doesn't keep spray spray emits--and seems to i guess\n",
            "Review 1000 after processing\n",
            "right after guess dog well well fill to work it seem keep other small work num work veri care bark cairn small dog time and fair sure whi is suppos emit and bark just look either doe such for my either away emit and such sure it either my my they re get again it to care the spray care if doe not persist get spray just just my other spray as we re not look spray if they re are just is not my yappi too stubborn doesn work look away when dog who barker bark they re we fill fill it not sure work work work spray long it doe also seem also doesn small cairn from we spray again it also yappi persist barker where not such persist whi terrier isn work long it who if just too veri num of time and we re from where right work well he veri long it well for suppos to too when we terrier are we re after but keep my num other get after stubborn yappi cairn not not not the time and as mani stubborn to suppos where the well right fair well doesn doesn work fair mani spray whi when barker terrier doe work not have from bark away from mani who is work he just bark again it doesn keep spray spray emit and seem to guess\n"
          ]
        }
      ],
      "source": [
        "print(\"Review 1000 before processing\")\n",
        "print(kitchen_df.loc[1000]['review'])\n",
        "print(\"Review 1000 after processing\")\n",
        "print(processed_kitchen_df.loc[1000]['processed'])"
      ]
    },
    {
      "cell_type": "markdown",
      "metadata": {
        "id": "dmeno5pN3Ov6"
      },
      "source": [
        "We are extracting the features using the vectorizer we created previously, and we are also saving that trained vectorizer so that we can reuse it when testing the unlabeled files"
      ]
    },
    {
      "cell_type": "code",
      "execution_count": 59,
      "metadata": {
        "colab": {
          "base_uri": "https://localhost:8080/"
        },
        "id": "5aDwOOCs3Ov6",
        "outputId": "7ee67a71-d6d0-4849-95af-335e9ad39f81"
      },
      "outputs": [
        {
          "name": "stdout",
          "output_type": "stream",
          "text": [
            "['aa' 'aaa' 'aaahhh' 'ab' 'abandon' 'abc' 'abd' 'abil' 'abit' 'abl']\n"
          ]
        }
      ],
      "source": [
        "kitchen_fv = bow(processed_kitchen_df['processed'].values)\n",
        "kitchen_features = kitchen_fv['features']\n",
        "kitchen_vectorizer = kitchen_fv['vectorizer']"
      ]
    },
    {
      "cell_type": "markdown",
      "metadata": {
        "id": "ay3fnzg-3Ov6"
      },
      "source": [
        "We train the model using Multinomial Naive Bayes"
      ]
    },
    {
      "cell_type": "code",
      "execution_count": 60,
      "metadata": {
        "id": "WGQovmPS3Ov7"
      },
      "outputs": [],
      "source": [
        "kitchen_labels = processed_kitchen_df['label'].values\n",
        "kitchen_model = NB(kitchen_features, kitchen_labels)"
      ]
    },
    {
      "cell_type": "code",
      "execution_count": 61,
      "metadata": {
        "id": "q35ukXn63Ov7"
      },
      "outputs": [],
      "source": [
        "kitchen_nb = kitchen_model['model']\n",
        "kitchen_x_train = kitchen_model['x_train']\n",
        "kitchen_x_test = kitchen_model['x_test']\n",
        "kitchen_y_train = kitchen_model['y_train']\n",
        "kitchen_y_test = kitchen_model['y_test']"
      ]
    },
    {
      "cell_type": "markdown",
      "metadata": {
        "id": "X7LkYi-h3Ov7"
      },
      "source": [
        "#### Evaluation with the training data set"
      ]
    },
    {
      "cell_type": "markdown",
      "metadata": {
        "id": "QmMXeJpG3Ov8"
      },
      "source": [
        "Finally we evaluate the model using theese metrics"
      ]
    },
    {
      "cell_type": "code",
      "execution_count": 62,
      "metadata": {
        "colab": {
          "base_uri": "https://localhost:8080/",
          "height": 612
        },
        "id": "-uW4X__V3Ov8",
        "outputId": "2a4d6c8a-c4f9-4923-82e8-11fced0827c4"
      },
      "outputs": [
        {
          "name": "stdout",
          "output_type": "stream",
          "text": [
            "Evaluating metrics\n",
            "              precision    recall  f1-score   support\n",
            "\n",
            "    negative     0.8247    0.8000    0.8122       200\n",
            "    positive     0.8058    0.8300    0.8177       200\n",
            "\n",
            "    accuracy                         0.8150       400\n",
            "   macro avg     0.8153    0.8150    0.8150       400\n",
            "weighted avg     0.8153    0.8150    0.8150       400\n",
            "\n"
          ]
        },
        {
          "data": {
            "image/png": "[encoded data removed]",
            "text/plain": [
              "<Figure size 640x480 with 2 Axes>"
            ]
          },
          "metadata": {},
          "output_type": "display_data"
        }
      ],
      "source": [
        "evaluation(kitchen_nb, kitchen_x_test, kitchen_y_test)"
      ]
    },
    {
      "cell_type": "markdown",
      "metadata": {
        "id": "sGAJ6lWn3Ov8"
      },
      "source": [
        "#### Evaluating with the unlabeled data set"
      ]
    },
    {
      "cell_type": "code",
      "execution_count": 64,
      "metadata": {
        "id": "vRml1YBj3Ov8"
      },
      "outputs": [],
      "source": [
        "kitchen_test_df = create_df('kitchen_test.csv')"
      ]
    },
    {
      "cell_type": "code",
      "execution_count": 65,
      "metadata": {
        "id": "O05rklCq3Ov9"
      },
      "outputs": [],
      "source": [
        "processed_test_kitchen_df = apply_processing(kitchen_test_df)"
      ]
    },
    {
      "cell_type": "code",
      "execution_count": 66,
      "metadata": {
        "id": "A7cThT3t3Ov9"
      },
      "outputs": [],
      "source": [
        "test_kitchen_features = kitchen_vectorizer.transform(processed_test_kitchen_df['processed'].values)"
      ]
    },
    {
      "cell_type": "code",
      "execution_count": 67,
      "metadata": {
        "colab": {
          "base_uri": "https://localhost:8080/",
          "height": 612
        },
        "id": "riLodlHW3Ov9",
        "outputId": "47ad417a-a7c9-4425-89bf-16f83ff77b3a"
      },
      "outputs": [
        {
          "name": "stdout",
          "output_type": "stream",
          "text": [
            "Evaluating metrics\n",
            "              precision    recall  f1-score   support\n",
            "\n",
            "    negative     0.8328    0.8124    0.8225      2991\n",
            "    positive     0.8147    0.8348    0.8246      2954\n",
            "\n",
            "    accuracy                         0.8235      5945\n",
            "   macro avg     0.8237    0.8236    0.8235      5945\n",
            "weighted avg     0.8238    0.8235    0.8235      5945\n",
            "\n"
          ]
        },
        {
          "data": {
            "image/png": "[encoded data removed]",
            "text/plain": [
              "<Figure size 640x480 with 2 Axes>"
            ]
          },
          "metadata": {},
          "output_type": "display_data"
        }
      ],
      "source": [
        "un_kitchen_x_test = test_kitchen_features\n",
        "un_kitchen_y_test = processed_test_kitchen_df['label'].values\n",
        "\n",
        "evaluation(kitchen_nb, un_kitchen_x_test, un_kitchen_y_test)"
      ]
    },
    {
      "cell_type": "markdown",
      "metadata": {
        "id": "o1lH-kxT3Ov-"
      },
      "source": [
        "#### Regresion logistica"
      ]
    },
    {
      "cell_type": "markdown",
      "metadata": {
        "id": "N4gO6QEE3Ov-"
      },
      "source": [
        "We are creating a logistic SGD model"
      ]
    },
    {
      "cell_type": "code",
      "execution_count": 68,
      "metadata": {
        "colab": {
          "base_uri": "https://localhost:8080/",
          "height": 72
        },
        "id": "h--sT--13Ov-",
        "outputId": "c05d1b87-cdb2-4d82-b0f9-ce61d64c7bdc"
      },
      "outputs": [
        {
          "data": {
            "text/html": [
              "<style>#sk-container-id-4 {color: black;background-color: white;}#sk-container-id-4 pre{padding: 0;}#sk-container-id-4 div.sk-toggleable {background-color: white;}#sk-container-id-4 label.sk-toggleable__label {cursor: pointer;display: block;width: 100%;margin-bottom: 0;padding: 0.3em;box-sizing: border-box;text-align: center;}#sk-container-id-4 label.sk-toggleable__label-arrow:before {content: \"▸\";float: left;margin-right: 0.25em;color: #696969;}#sk-container-id-4 label.sk-toggleable__label-arrow:hover:before {color: black;}#sk-container-id-4 div.sk-estimator:hover label.sk-toggleable__label-arrow:before {color: black;}#sk-container-id-4 div.sk-toggleable__content {max-height: 0;max-width: 0;overflow: hidden;text-align: left;background-color: #f0f8ff;}#sk-container-id-4 div.sk-toggleable__content pre {margin: 0.2em;color: black;border-radius: 0.25em;background-color: #f0f8ff;}#sk-container-id-4 input.sk-toggleable__control:checked~div.sk-toggleable__content {max-height: 200px;max-width: 100%;overflow: auto;}#sk-container-id-4 input.sk-toggleable__control:checked~label.sk-toggleable__label-arrow:before {content: \"▾\";}#sk-container-id-4 div.sk-estimator input.sk-toggleable__control:checked~label.sk-toggleable__label {background-color: #d4ebff;}#sk-container-id-4 div.sk-label input.sk-toggleable__control:checked~label.sk-toggleable__label {background-color: #d4ebff;}#sk-container-id-4 input.sk-hidden--visually {border: 0;clip: rect(1px 1px 1px 1px);clip: rect(1px, 1px, 1px, 1px);height: 1px;margin: -1px;overflow: hidden;padding: 0;position: absolute;width: 1px;}#sk-container-id-4 div.sk-estimator {font-family: monospace;background-color: #f0f8ff;border: 1px dotted black;border-radius: 0.25em;box-sizing: border-box;margin-bottom: 0.5em;}#sk-container-id-4 div.sk-estimator:hover {background-color: #d4ebff;}#sk-container-id-4 div.sk-parallel-item::after {content: \"\";width: 100%;border-bottom: 1px solid gray;flex-grow: 1;}#sk-container-id-4 div.sk-label:hover label.sk-toggleable__label {background-color: #d4ebff;}#sk-container-id-4 div.sk-serial::before {content: \"\";position: absolute;border-left: 1px solid gray;box-sizing: border-box;top: 0;bottom: 0;left: 50%;z-index: 0;}#sk-container-id-4 div.sk-serial {display: flex;flex-direction: column;align-items: center;background-color: white;padding-right: 0.2em;padding-left: 0.2em;position: relative;}#sk-container-id-4 div.sk-item {position: relative;z-index: 1;}#sk-container-id-4 div.sk-parallel {display: flex;align-items: stretch;justify-content: center;background-color: white;position: relative;}#sk-container-id-4 div.sk-item::before, #sk-container-id-4 div.sk-parallel-item::before {content: \"\";position: absolute;border-left: 1px solid gray;box-sizing: border-box;top: 0;bottom: 0;left: 50%;z-index: -1;}#sk-container-id-4 div.sk-parallel-item {display: flex;flex-direction: column;z-index: 1;position: relative;background-color: white;}#sk-container-id-4 div.sk-parallel-item:first-child::after {align-self: flex-end;width: 50%;}#sk-container-id-4 div.sk-parallel-item:last-child::after {align-self: flex-start;width: 50%;}#sk-container-id-4 div.sk-parallel-item:only-child::after {width: 0;}#sk-container-id-4 div.sk-dashed-wrapped {border: 1px dashed gray;margin: 0 0.4em 0.5em 0.4em;box-sizing: border-box;padding-bottom: 0.4em;background-color: white;}#sk-container-id-4 div.sk-label label {font-family: monospace;font-weight: bold;display: inline-block;line-height: 1.2em;}#sk-container-id-4 div.sk-label-container {text-align: center;}#sk-container-id-4 div.sk-container {/* jupyter's `normalize.less` sets `[hidden] { display: none; }` but bootstrap.min.css set `[hidden] { display: none !important; }` so we also need the `!important` here to be able to override the default hidden behavior on the sphinx rendered scikit-learn.org. See: https://github.com/scikit-learn/scikit-learn/issues/21755 */display: inline-block !important;position: relative;}#sk-container-id-4 div.sk-text-repr-fallback {display: none;}</style><div id=\"sk-container-id-4\" class=\"sk-top-container\"><div class=\"sk-text-repr-fallback\"><pre>SGDClassifier(eta0=0.001, learning_rate=&#x27;constant&#x27;, loss=&#x27;log_loss&#x27;)</pre><b>In a Jupyter environment, please rerun this cell to show the HTML representation or trust the notebook. <br />On GitHub, the HTML representation is unable to render, please try loading this page with nbviewer.org.</b></div><div class=\"sk-container\" hidden><div class=\"sk-item\"><div class=\"sk-estimator sk-toggleable\"><input class=\"sk-toggleable__control sk-hidden--visually\" id=\"sk-estimator-id-4\" type=\"checkbox\" checked><label for=\"sk-estimator-id-4\" class=\"sk-toggleable__label sk-toggleable__label-arrow\">SGDClassifier</label><div class=\"sk-toggleable__content\"><pre>SGDClassifier(eta0=0.001, learning_rate=&#x27;constant&#x27;, loss=&#x27;log_loss&#x27;)</pre></div></div></div></div></div>"
            ],
            "text/plain": [
              "SGDClassifier(eta0=0.001, learning_rate='constant', loss='log_loss')"
            ]
          },
          "execution_count": 68,
          "metadata": {},
          "output_type": "execute_result"
        }
      ],
      "source": [
        "logistic_model_SGD = SGDClassifier(loss='log_loss',learning_rate='constant',eta0=0.001 )\n",
        "logistic_model_SGD.fit(kitchen_x_train, kitchen_y_train)"
      ]
    },
    {
      "cell_type": "code",
      "execution_count": 69,
      "metadata": {
        "colab": {
          "base_uri": "https://localhost:8080/"
        },
        "id": "EmGs7H6q3Ov-",
        "outputId": "1f4d9e30-6941-4b80-de41-db267364aa41"
      },
      "outputs": [
        {
          "name": "stdout",
          "output_type": "stream",
          "text": [
            "Classes of the dependent variable: ['negative' 'positive']\n",
            "\n",
            "\n",
            "Coefficient Vectors:\n",
            "[[0.00703591 0.00383842 0.00038357 ... 0.         0.05336991 0.04328537]]\n"
          ]
        }
      ],
      "source": [
        "print(f'Classes of the dependent variable: {logistic_model_SGD.classes_}')\n",
        "print('\\n')\n",
        "print('Coefficient Vectors:')\n",
        "print(logistic_model_SGD.coef_)\n"
      ]
    },
    {
      "cell_type": "markdown",
      "metadata": {
        "id": "90NggC823Ov_"
      },
      "source": [
        "We are going to use this model to predict the same unlabeled data set to compare the results"
      ]
    },
    {
      "cell_type": "code",
      "execution_count": 70,
      "metadata": {
        "colab": {
          "base_uri": "https://localhost:8080/",
          "height": 612
        },
        "id": "xlEuTxO93Ov_",
        "outputId": "5c2ca02e-aab8-4683-e22f-b0d84069c8d9"
      },
      "outputs": [
        {
          "name": "stdout",
          "output_type": "stream",
          "text": [
            "Evaluating metrics\n",
            "              precision    recall  f1-score   support\n",
            "\n",
            "    negative     0.8449    0.8285    0.8366      2991\n",
            "    positive     0.8297    0.8460    0.8377      2954\n",
            "\n",
            "    accuracy                         0.8372      5945\n",
            "   macro avg     0.8373    0.8372    0.8372      5945\n",
            "weighted avg     0.8373    0.8372    0.8372      5945\n",
            "\n"
          ]
        },
        {
          "data": {
            "image/png": "[encoded data removed]",
            "text/plain": [
              "<Figure size 640x480 with 2 Axes>"
            ]
          },
          "metadata": {},
          "output_type": "display_data"
        }
      ],
      "source": [
        "evaluation(logistic_model_SGD, un_kitchen_x_test, un_kitchen_y_test)"
      ]
    },
    {
      "cell_type": "markdown",
      "metadata": {
        "id": "pYZ6Lsy-6GqU"
      },
      "source": [
        "## Questions\n",
        "\n",
        "Al final, podemos concluir que la categoría más difícil de predecir el sentimiento, basándonos en los resultados obtenidos por el modelo de regresión logística (LR) con los mismos parámetros para las 4 categorías, es la de libros, ya que presenta las métricas más bajas.\n",
        "\n",
        "Para obtener las features mas importantes para cada categoria se utiliza la funcion de .coef_ la cual da los coeficientes para cada una de las features, se ordena esta lista en orden decendiente y se contrasta con el nombre de la feature correspondiente para determinar cuales son las que tienen los coeficientes mas altos, es decir que tienen mayor importancia y su aparicion en los textos facilita la clasificacion en positivo o negativo.\n",
        "\n",
        "Al final no logramos concretar en hacer un modelo con todas las categoriass combinadas, pero intuimos que al tener un vocabulario mucho mas grande y mas datos de entrenamiento se podrian tener mejores resultados, sin embargo tambien creemos que el hecho de tener categorias hace que el lenguaje propio de cada una afecte directamente en la clasificacion para cada categoria."
      ]
    },
    {
      "cell_type": "code",
      "execution_count": null,
      "metadata": {
        "id": "BIPp6iXC6-Qc"
      },
      "outputs": [],
      "source": []
    }
  ],
  "metadata": {
    "colab": {
      "provenance": []
    },
    "kernelspec": {
      "display_name": "Python 3 (ipykernel)",
      "language": "python",
      "name": "python3"
    },
    "language_info": {
      "codemirror_mode": {
        "name": "ipython",
        "version": 3
      },
      "file_extension": ".py",
      "mimetype": "text/x-python",
      "name": "python",
      "nbconvert_exporter": "python",
      "pygments_lexer": "ipython3",
      "version": "3.11.1"
    }
  },
  "nbformat": 4,
  "nbformat_minor": 0
}
